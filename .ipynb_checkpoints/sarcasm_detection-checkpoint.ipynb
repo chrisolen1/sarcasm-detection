{
 "cells": [
  {
   "cell_type": "code",
   "execution_count": null,
   "metadata": {},
   "outputs": [],
   "source": [
    "### Download File to RCC ### \n",
    "\n",
    "# wget https://nlp.cs.princeton.edu/SARC/1.0/main/train-unbalanced.csv.bz2\n",
    "\n",
    "### Unzip and put into HDFS ###\n",
    "\n",
    "# bunzip2 -c train-unbalanced.csv.bz2 | hdfs dfs -put - /user/$USER/project/reddit_sarc13.csv"
   ]
  },
  {
   "cell_type": "markdown",
   "metadata": {},
   "source": [
    "## Load into Spark"
   ]
  },
  {
   "cell_type": "code",
   "execution_count": 123,
   "metadata": {},
   "outputs": [],
   "source": [
    "from pyspark.sql import SparkSession\n",
    "from pyspark.sql import HiveContext\n",
    "\n",
    "from pyspark.sql.functions import col, udf, when, isnan, count\n",
    "\n",
    "from pyspark.sql.types import LongType\n",
    "from pyspark.sql.types import IntegerType\n",
    "\n",
    "import pandas as pd\n",
    "\n",
    "import matplotlib.pyplot as plt\n",
    "%matplotlib inline"
   ]
  },
  {
   "cell_type": "code",
   "execution_count": 124,
   "metadata": {},
   "outputs": [],
   "source": [
    "spark = SparkSession.builder.enableHiveSupport().appName('sarcasm_detection').getOrCreate()\n",
    "sc = spark.sparkContext"
   ]
  },
  {
   "cell_type": "code",
   "execution_count": 125,
   "metadata": {},
   "outputs": [],
   "source": [
    "hive_context = HiveContext(sc)"
   ]
  },
  {
   "cell_type": "code",
   "execution_count": 126,
   "metadata": {},
   "outputs": [
    {
     "name": "stdout",
     "output_type": "stream",
     "text": [
      "CPU times: user 1.53 ms, sys: 5.57 ms, total: 7.1 ms\n",
      "Wall time: 7.15 s\n"
     ]
    }
   ],
   "source": [
    "%time sarc = spark.read.csv(\"/user/olencb/project/reddit_sarc13.csv\", inferSchema=True, header=False, sep = '\\t')"
   ]
  },
  {
   "cell_type": "code",
   "execution_count": 127,
   "metadata": {},
   "outputs": [],
   "source": [
    "sarc = sarc.select(col('_c0').alias('label'),col('_c1').alias('comment'),col('_c2').alias('author'),\n",
    "              col('_c4').alias('subreddit'),col('_c5').alias('score'),col('_c6').alias('ups'),\n",
    "              col('_c6').alias('downs'),col('_c7').alias('date'), col('_c8').alias('created_utc'),\n",
    "              col('_c9').alias('parent_comment'))"
   ]
  },
  {
   "cell_type": "code",
   "execution_count": 128,
   "metadata": {},
   "outputs": [
    {
     "name": "stdout",
     "output_type": "stream",
     "text": [
      "root\n",
      " |-- label: integer (nullable = true)\n",
      " |-- comment: string (nullable = true)\n",
      " |-- author: string (nullable = true)\n",
      " |-- subreddit: integer (nullable = true)\n",
      " |-- score: integer (nullable = true)\n",
      " |-- ups: integer (nullable = true)\n",
      " |-- downs: integer (nullable = true)\n",
      " |-- date: string (nullable = true)\n",
      " |-- created_utc: integer (nullable = true)\n",
      " |-- parent_comment: string (nullable = true)\n",
      "\n"
     ]
    }
   ],
   "source": [
    "sarc.printSchema()"
   ]
  },
  {
   "cell_type": "code",
   "execution_count": 129,
   "metadata": {},
   "outputs": [
    {
     "name": "stdout",
     "output_type": "stream",
     "text": [
      "+-----+--------------------+----------+---------+-----+---+-----+-------+-----------+--------------------+\n",
      "|label|             comment|    author|subreddit|score|ups|downs|   date|created_utc|      parent_comment|\n",
      "+-----+--------------------+----------+---------+-----+---+-----+-------+-----------+--------------------+\n",
      "|    0|50 and it forces ...|Mattys1174|        1|   -1| -1|   -1|2017-02| 1485907243|Does anyone know ...|\n",
      "|    0|     Marchand who ;)|Mattys1174|        2|   -1| -1|   -1|2017-02| 1486003855|This post wasn't ...|\n",
      "|    0|Maybe theyll hire...|Mattys1174|        5|   -1| -1|   -1|2017-02| 1486525469|Bruins Relieve Cl...|\n",
      "|    0| Thats a lotta dough|Mattys1174|        1|   -1| -1|   -1|2017-02| 1486584244|Bergeron for 500$...|\n",
      "|    0|Nah youre the bes...|Mattys1174|        1|   -1| -1|   -1|2017-02| 1486602648|Second best strea...|\n",
      "|    0|                  +1|Mattys1174|        2|   -1| -1|   -1|2017-02| 1486658528|As someone sittin...|\n",
      "|    0|Yea the newborns ...|Mattys1174|        1|   -1| -1|   -1|2017-02| 1486674361|You know if they ...|\n",
      "|    0|Patches isnt gett...|Mattys1174|        1|   -1| -1|   -1|2017-02| 1486699267|Confessions of a ...|\n",
      "|    0|                 Hah|Mattys1174|        1|   -1| -1|   -1|2017-02| 1486936580|Sorry I forgot to...|\n",
      "|    0|Thats very true a...|Mattys1174|        1|   -1| -1|   -1|2017-02| 1487113086|Burning out a lin...|\n",
      "|    0|Im not a guy if y...|Mattys1174|        1|   -1| -1|   -1|2017-02| 1487211729|Just a girl looki...|\n",
      "|    0|         KATTENSHIRK|Mattys1174|        1|   -1| -1|   -1|2017-02| 1487376513|  New Special Cards!|\n",
      "|    0|Dude, stop being ...|Mattys1174|       -5|   -1| -1|   -1|2017-02| 1487825001|I have a post wit...|\n",
      "|    0|I would not get i...|Mattys1174|        1|   -1| -1|   -1|2017-02| 1487825058|Lol! Seriously! N...|\n",
      "|    0|I heard from my b...|Mattys1174|       36|   -1| -1|   -1|2017-02| 1487895702|Shattenkirk likel...|\n",
      "|    0|Torey, and torey'...|Mattys1174|        1|   -1| -1|   -1|2017-02| 1487897323|Ohlund is north o...|\n",
      "|    0|             I lov u|Mattys1174|        3|   -1| -1|   -1|2017-02| 1488160904|Fact, bears eat b...|\n",
      "|    0|You did this real...|Mattys1174|        2|   -1| -1|   -1|2017-04| 1491085990|Try out streaming...|\n",
      "|    0|        What te fuck|Mattys1174|        3|   -1| -1|   -1|2017-04| 1491263261|Matt is a boss ha...|\n",
      "|    0|Me too honestly, ...|Mattys1174|        1|   -1| -1|   -1|2017-04| 1491275007|Hes another Ill t...|\n",
      "|    0|              decent|Mattys1174|        1|   -1| -1|   -1|2017-04| 1491532008|My 3 elite packs ...|\n",
      "|    0|Not when you are ...|Mattys1174|        1|   -1| -1|   -1|2017-04| 1492023142|Growing a beard i...|\n",
      "|    0|Just talking abou...|Mattys1174|        2|   -1| -1|   -1|2017-04| 1492111574|GRUMPYS? Buff chi...|\n",
      "|    0|Clearly for metho...|Mattys1174|        2|   -1| -1|   -1|2017-04| 1492482998|What's better? Be...|\n",
      "|    0|I honestly sort o...|Mattys1174|        2|   -1| -1|   -1|2017-04| 1492483523|I'm being honest ...|\n",
      "|    0|                None|Mattys1174|        2|   -1| -1|   -1|2017-04| 1492525817|Question about po...|\n",
      "|    0|ITT: people claim...|Mattys1174|        1|   -1| -1|   -1|2017-04| 1492539525|ITT: people not k...|\n",
      "|    0|s2 tyler seguin g...|Mattys1174|        1|   -1| -1|   -1|2017-04| 1492804281|Possibly looking ...|\n",
      "|    0|\"and also i paid ...|Mattys1174|        1|   -1| -1|   -1|2017-04| 1492804496|Ah didn't know yo...|\n",
      "|    0|honestly i bought...|Mattys1174|        2|   -1| -1|   -1|2017-04| 1492967093|Don't forget abou...|\n",
      "+-----+--------------------+----------+---------+-----+---+-----+-------+-----------+--------------------+\n",
      "only showing top 30 rows\n",
      "\n"
     ]
    }
   ],
   "source": [
    "sarc.show(30)"
   ]
  },
  {
   "cell_type": "code",
   "execution_count": 130,
   "metadata": {},
   "outputs": [
    {
     "data": {
      "text/plain": [
       "[('label', 'int'),\n",
       " ('comment', 'string'),\n",
       " ('author', 'string'),\n",
       " ('subreddit', 'int'),\n",
       " ('score', 'int'),\n",
       " ('ups', 'int'),\n",
       " ('downs', 'int'),\n",
       " ('date', 'string'),\n",
       " ('created_utc', 'int'),\n",
       " ('parent_comment', 'string')]"
      ]
     },
     "execution_count": 130,
     "metadata": {},
     "output_type": "execute_result"
    }
   ],
   "source": [
    "sarc.dtypes"
   ]
  },
  {
   "cell_type": "code",
   "execution_count": 131,
   "metadata": {},
   "outputs": [
    {
     "name": "stdout",
     "output_type": "stream",
     "text": [
      "CPU times: user 1.06 ms, sys: 2.09 ms, total: 3.14 ms\n",
      "Wall time: 2.47 s\n"
     ]
    },
    {
     "data": {
      "text/plain": [
       "187401972"
      ]
     },
     "execution_count": 131,
     "metadata": {},
     "output_type": "execute_result"
    }
   ],
   "source": [
    "# Number of samples:\n",
    "\n",
    "%time sarc.count()"
   ]
  },
  {
   "cell_type": "code",
   "execution_count": 132,
   "metadata": {},
   "outputs": [
    {
     "name": "stdout",
     "output_type": "stream",
     "text": [
      "+-----+---------+\n",
      "|label|    count|\n",
      "+-----+---------+\n",
      "|    1|   562839|\n",
      "|    0|186839133|\n",
      "+-----+---------+\n",
      "\n",
      "CPU times: user 2.03 ms, sys: 4.18 ms, total: 6.21 ms\n",
      "Wall time: 5.52 s\n"
     ]
    }
   ],
   "source": [
    "# Current label inbalance:\n",
    "\n",
    "%time sarc.groupBy('label').count().show()"
   ]
  },
  {
   "cell_type": "code",
   "execution_count": 133,
   "metadata": {},
   "outputs": [
    {
     "name": "stdout",
     "output_type": "stream",
     "text": [
      "+---------+--------+\n",
      "|subreddit|   count|\n",
      "+---------+--------+\n",
      "|        1|69444930|\n",
      "|        2|32356724|\n",
      "|        3|17450987|\n",
      "|        0| 8140676|\n",
      "|        4| 7405748|\n",
      "|        5| 6944588|\n",
      "|        6| 5232785|\n",
      "|        7| 3968578|\n",
      "|        8| 3115913|\n",
      "|       -1| 2812235|\n",
      "|        9| 2502566|\n",
      "|       10| 2051214|\n",
      "|       11| 1722294|\n",
      "|       12| 1464941|\n",
      "|       -2| 1421861|\n",
      "|       13| 1263615|\n",
      "|       14| 1101061|\n",
      "|       15|  966318|\n",
      "|       16|  855833|\n",
      "|       -3|  765137|\n",
      "+---------+--------+\n",
      "only showing top 20 rows\n",
      "\n",
      "CPU times: user 3.95 ms, sys: 3.91 ms, total: 7.86 ms\n",
      "Wall time: 5.6 s\n"
     ]
    }
   ],
   "source": [
    "# Subreddit distribution:\n",
    "\n",
    "%time sarc.groupBy('subreddit').count().orderBy([\"count\"], ascending=[0]).show()"
   ]
  },
  {
   "cell_type": "code",
   "execution_count": 134,
   "metadata": {},
   "outputs": [
    {
     "data": {
      "text/plain": [
       "<matplotlib.axes._subplots.AxesSubplot at 0x7fb1c05a04e0>"
      ]
     },
     "execution_count": 134,
     "metadata": {},
     "output_type": "execute_result"
    },
    {
     "data": {
      "image/png": "[encoded data removed]",
      "text/plain": [
       "<Figure size 432x288 with 1 Axes>"
      ]
     },
     "metadata": {},
     "output_type": "display_data"
    }
   ],
   "source": [
    "# Largest 100 subreddits:\n",
    "\n",
    "srd = sarc.groupBy('subreddit').count().orderBy([\"count\"], ascending=[0]).toPandas().iloc[0:99]\n",
    "\n",
    "# The rest:\n",
    "rest = sarc.groupBy('subreddit').count().orderBy([\"count\"], ascending=[0]).toPandas().iloc[100:]\n",
    "\n",
    "# Combining into df:\n",
    "rest_count = rest['count'].sum()\n",
    "d = {'subreddit':'rest','count':rest_count}\n",
    "countdf = pd.DataFrame(d, index=[0])\n",
    "combined = srd.append(d, ignore_index=True)\n",
    "\n",
    "# Plotting:\n",
    "combined.plot(kind='bar', x='subreddit')"
   ]
  },
  {
   "cell_type": "code",
   "execution_count": 135,
   "metadata": {},
   "outputs": [
    {
     "name": "stdout",
     "output_type": "stream",
     "text": [
      "CPU times: user 4.11 ms, sys: 1.21 ms, total: 5.32 ms\n",
      "Wall time: 5.36 s\n"
     ]
    },
    {
     "data": {
      "text/plain": [
       "7707"
      ]
     },
     "execution_count": 135,
     "metadata": {},
     "output_type": "execute_result"
    }
   ],
   "source": [
    "# Distinct subreddits:\n",
    "\n",
    "%time sarc.select(\"subreddit\").distinct().count()"
   ]
  },
  {
   "cell_type": "code",
   "execution_count": 136,
   "metadata": {},
   "outputs": [
    {
     "name": "stdout",
     "output_type": "stream",
     "text": [
      "+--------------------+------+\n",
      "|              author| count|\n",
      "+--------------------+------+\n",
      "| Late_Night_Grumbler|123721|\n",
      "|       TheNitromeFan| 71062|\n",
      "|          davidjl123| 68183|\n",
      "|            iam4real| 55413|\n",
      "|        Removedpixel| 46048|\n",
      "|               veeti| 42062|\n",
      "|RandomRedditorWithNo| 42036|\n",
      "|              Lots42| 39422|\n",
      "|      Sir_Willis_CMS| 36430|\n",
      "|     andrewsmith1986| 35994|\n",
      "|            Mooraell| 31971|\n",
      "|          Tucan_Sam_| 29776|\n",
      "|            rideride| 28978|\n",
      "|     WhenAllElseFail| 28556|\n",
      "|          JonAudette| 25206|\n",
      "|        mrpopenfresh| 25138|\n",
      "|          Herdnerfer| 24340|\n",
      "|      InsertSomeName| 24136|\n",
      "|           kingeryck| 24081|\n",
      "| RudegarWithFunnyHat| 23025|\n",
      "+--------------------+------+\n",
      "only showing top 20 rows\n",
      "\n",
      "CPU times: user 6.92 ms, sys: 515 µs, total: 7.43 ms\n",
      "Wall time: 6.29 s\n"
     ]
    }
   ],
   "source": [
    "# Distribution of authors:\n",
    "\n",
    "%time sarc.groupBy('author').count().orderBy([\"count\"], ascending=[0]).show()"
   ]
  },
  {
   "cell_type": "code",
   "execution_count": 137,
   "metadata": {},
   "outputs": [
    {
     "name": "stdout",
     "output_type": "stream",
     "text": [
      "CPU times: user 2.55 ms, sys: 3.58 ms, total: 6.14 ms\n",
      "Wall time: 6.61 s\n"
     ]
    },
    {
     "data": {
      "text/plain": [
       "616978"
      ]
     },
     "execution_count": 137,
     "metadata": {},
     "output_type": "execute_result"
    }
   ],
   "source": [
    "# Distinct authors:\n",
    "\n",
    "%time sarc.select(\"author\").distinct().count()"
   ]
  },
  {
   "cell_type": "code",
   "execution_count": 138,
   "metadata": {},
   "outputs": [
    {
     "name": "stdout",
     "output_type": "stream",
     "text": [
      "+----+---------+\n",
      "| ups|    count|\n",
      "+----+---------+\n",
      "|   0|142594514|\n",
      "|  -1| 44806473|\n",
      "|null|      985|\n",
      "+----+---------+\n",
      "\n"
     ]
    }
   ],
   "source": [
    "# Distribution of up-votes:\n",
    "\n",
    "sarc.groupBy('ups').count().orderBy('count', ascending=[0]).show()"
   ]
  },
  {
   "cell_type": "code",
   "execution_count": 139,
   "metadata": {},
   "outputs": [
    {
     "name": "stdout",
     "output_type": "stream",
     "text": [
      "+-----+---------+\n",
      "|downs|    count|\n",
      "+-----+---------+\n",
      "|    0|142594514|\n",
      "|   -1| 44806473|\n",
      "| null|      985|\n",
      "+-----+---------+\n",
      "\n"
     ]
    }
   ],
   "source": [
    "# Distribution of down-votes:\n",
    "\n",
    "sarc.groupBy('downs').count().orderBy('count', ascending=[0]).show()"
   ]
  },
  {
   "cell_type": "code",
   "execution_count": 140,
   "metadata": {},
   "outputs": [
    {
     "name": "stdout",
     "output_type": "stream",
     "text": [
      "+-----+--------+\n",
      "|score|   count|\n",
      "+-----+--------+\n",
      "|    1|53440002|\n",
      "|   -1|47128092|\n",
      "|    2|24723560|\n",
      "|    3|13121021|\n",
      "|    0| 6696393|\n",
      "|    4| 5556384|\n",
      "|    5| 5168008|\n",
      "|    6| 3883055|\n",
      "|    7| 2928488|\n",
      "|    8| 2290574|\n",
      "|    9| 1833301|\n",
      "|   10| 1499982|\n",
      "|   11| 1257685|\n",
      "|   -2| 1169816|\n",
      "|   12| 1067055|\n",
      "|   13|  918011|\n",
      "|   14|  798419|\n",
      "|   15|  699673|\n",
      "|   -3|  626747|\n",
      "|   16|  617940|\n",
      "+-----+--------+\n",
      "only showing top 20 rows\n",
      "\n"
     ]
    }
   ],
   "source": [
    "# Distribution of karma-scores:\n",
    "\n",
    "sarc.groupBy('score').count().orderBy('count', ascending=[0]).show()"
   ]
  },
  {
   "cell_type": "code",
   "execution_count": 141,
   "metadata": {},
   "outputs": [],
   "source": [
    "# Dropping columns we probably won't need:\n",
    "\n",
    "sarc = sarc.drop('created_utc')\n",
    "sarc = sarc.drop('date')\n",
    "sarc = sarc.drop('downs')"
   ]
  },
  {
   "cell_type": "code",
   "execution_count": 142,
   "metadata": {},
   "outputs": [
    {
     "name": "stdout",
     "output_type": "stream",
     "text": [
      "+-----+-------+------+---------+-----+---+--------------+\n",
      "|label|comment|author|subreddit|score|ups|parent_comment|\n",
      "+-----+-------+------+---------+-----+---+--------------+\n",
      "|    0|     95|     0|        0|    0|  0|            35|\n",
      "+-----+-------+------+---------+-----+---+--------------+\n",
      "\n"
     ]
    }
   ],
   "source": [
    "# Count of null values across columns: \n",
    "\n",
    "sarc.select([count(when(isnan(c), c)).alias(c) for c in sarc.columns]).show()"
   ]
  },
  {
   "cell_type": "code",
   "execution_count": 143,
   "metadata": {},
   "outputs": [
    {
     "name": "stdout",
     "output_type": "stream",
     "text": [
      "+-----+-------+------+---------+-----+---+--------------+\n",
      "|label|comment|author|subreddit|score|ups|parent_comment|\n",
      "+-----+-------+------+---------+-----+---+--------------+\n",
      "|    0|     95|     0|        0|    0|  0|            35|\n",
      "+-----+-------+------+---------+-----+---+--------------+\n",
      "\n"
     ]
    }
   ],
   "source": [
    "# Dropping nulls:\n",
    "\n",
    "sarc.select([count(when(isnan(c), c)).alias(c) for c in sarc.columns]).show() # this actually only accounts for 'nan's\n"
   ]
  },
  {
   "cell_type": "code",
   "execution_count": 144,
   "metadata": {},
   "outputs": [
    {
     "name": "stdout",
     "output_type": "stream",
     "text": [
      "+--------+\n",
      "|count(1)|\n",
      "+--------+\n",
      "|    2718|\n",
      "+--------+\n",
      "\n"
     ]
    }
   ],
   "source": [
    "# Count comment null values:\n",
    "\n",
    "sqlContext.sql(\"\"\"select count(*) from olencb.sarc where\n",
    "                      comment = 'None' or comment = 'none' or comment = 'NaN' or\n",
    "                      comment = 'nan' or comment = 'Null' or comment = 'null' or\n",
    "                      comment = 'NONE' or comment = 'NAN'\"\"\").show()"
   ]
  },
  {
   "cell_type": "code",
   "execution_count": 145,
   "metadata": {},
   "outputs": [
    {
     "name": "stdout",
     "output_type": "stream",
     "text": [
      "+--------+\n",
      "|count(1)|\n",
      "+--------+\n",
      "|       0|\n",
      "+--------+\n",
      "\n"
     ]
    }
   ],
   "source": [
    "sqlContext.sql(\"select count(*) from olencb.sarc where comment IS NULL\").show()"
   ]
  },
  {
   "cell_type": "code",
   "execution_count": 146,
   "metadata": {},
   "outputs": [
    {
     "name": "stdout",
     "output_type": "stream",
     "text": [
      "+--------+\n",
      "|count(1)|\n",
      "+--------+\n",
      "|     539|\n",
      "+--------+\n",
      "\n"
     ]
    }
   ],
   "source": [
    "# Count parent_comment null values:\n",
    "\n",
    "sqlContext.sql(\"\"\"select count(*) from olencb.sarc where\n",
    "                      parent_comment = 'None' or parent_comment = 'none' or parent_comment = 'NaN' or\n",
    "                      parent_comment = 'nan' or parent_comment = 'Null' or parent_comment = 'null' or\n",
    "                      parent_comment = 'NONE' or parent_comment = 'NAN'\"\"\").show()"
   ]
  },
  {
   "cell_type": "code",
   "execution_count": 147,
   "metadata": {},
   "outputs": [
    {
     "name": "stdout",
     "output_type": "stream",
     "text": [
      "+--------+\n",
      "|count(1)|\n",
      "+--------+\n",
      "|     985|\n",
      "+--------+\n",
      "\n"
     ]
    }
   ],
   "source": [
    "sqlContext.sql(\"select count(*) from olencb.sarc where parent_comment IS NULL\").show()"
   ]
  },
  {
   "cell_type": "code",
   "execution_count": 148,
   "metadata": {},
   "outputs": [
    {
     "name": "stdout",
     "output_type": "stream",
     "text": [
      "+--------+\n",
      "|count(1)|\n",
      "+--------+\n",
      "|       0|\n",
      "+--------+\n",
      "\n"
     ]
    }
   ],
   "source": [
    "# Count subreddit null values:\n",
    "\n",
    "sqlContext.sql(\"\"\"select count(*) from olencb.sarc where\n",
    "                      subreddit = 'None' or subreddit = 'none' or subreddit = 'NaN' or\n",
    "                      subreddit = 'nan' or subreddit = 'Null' or subreddit = 'null' or\n",
    "                      subreddit = 'NONE' or subreddit = 'NAN'\"\"\").show()"
   ]
  },
  {
   "cell_type": "code",
   "execution_count": 149,
   "metadata": {},
   "outputs": [
    {
     "name": "stdout",
     "output_type": "stream",
     "text": [
      "+--------+\n",
      "|count(1)|\n",
      "+--------+\n",
      "|     985|\n",
      "+--------+\n",
      "\n"
     ]
    }
   ],
   "source": [
    "# Count subreddit is nulls:\n",
    "\n",
    "sqlContext.sql(\"select count(*) from olencb.sarc where subreddit IS NULL\").show()"
   ]
  },
  {
   "cell_type": "code",
   "execution_count": 150,
   "metadata": {},
   "outputs": [],
   "source": [
    "sarc = sqlContext.sql(\"\"\"select * from olencb.sarc where \n",
    "                      comment != 'None' and comment != 'none' and comment != 'NaN' and\n",
    "                      comment != 'nan' and comment != 'Null' and comment != 'null' and\n",
    "                      comment != 'NONE' and comment != 'NAN' and\n",
    "                      parent_comment != 'None' and parent_comment != 'none' and parent_comment != 'NaN' and\n",
    "                      parent_comment != 'nan' and parent_comment != 'Null' and parent_comment != 'null' and\n",
    "                      parent_comment != 'NONE' and parent_comment != 'NAN' and\n",
    "                      parent_comment IS NOT NULL and subreddit IS NOT NULL\"\"\")"
   ]
  },
  {
   "cell_type": "code",
   "execution_count": 151,
   "metadata": {},
   "outputs": [
    {
     "data": {
      "text/plain": [
       "1"
      ]
     },
     "execution_count": 151,
     "metadata": {},
     "output_type": "execute_result"
    }
   ],
   "source": [
    "sarc.count()"
   ]
  },
  {
   "cell_type": "code",
   "execution_count": 152,
   "metadata": {},
   "outputs": [
    {
     "name": "stdout",
     "output_type": "stream",
     "text": [
      "+---------+\n",
      "| count(1)|\n",
      "+---------+\n",
      "|187397744|\n",
      "+---------+\n",
      "\n"
     ]
    }
   ],
   "source": [
    "# One more look:\n",
    "\n",
    "sarc.show(30)"
   ]
  },
  {
   "cell_type": "markdown",
   "metadata": {},
   "source": [
    "# Write to Hive"
   ]
  },
  {
   "cell_type": "code",
   "execution_count": null,
   "metadata": {},
   "outputs": [],
   "source": [
    "sarc.write.mode(\"overwrite\").saveAsTable(\"olencb.sarc\");"
   ]
  },
  {
   "cell_type": "markdown",
   "metadata": {},
   "source": [
    "# Read from Hive"
   ]
  },
  {
   "cell_type": "code",
   "execution_count": 79,
   "metadata": {},
   "outputs": [],
   "source": [
    "sarc = hive_context.table(\"olencb.sarc\")"
   ]
  },
  {
   "cell_type": "markdown",
   "metadata": {},
   "source": [
    "# Feature Engineering"
   ]
  },
  {
   "cell_type": "markdown",
   "metadata": {},
   "source": [
    "Reducing the number of subreddits to 150"
   ]
  },
  {
   "cell_type": "code",
   "execution_count": 80,
   "metadata": {},
   "outputs": [],
   "source": [
    "# 150 most-prolific subreddits:\n",
    "\n",
    "srd = sarc.groupBy('subreddit').count().orderBy([\"count\"], ascending=[0]).toPandas().iloc[0:149]\n",
    "\n",
    "# Convert to set:\n",
    "\n",
    "pop_subreddit = set(srd['subreddit'])"
   ]
  },
  {
   "cell_type": "code",
   "execution_count": 81,
   "metadata": {},
   "outputs": [],
   "source": [
    "# Filtering for only most popular 150:\n",
    "\n",
    "sarc = sarc.withColumn(\"subreddit\", \\\n",
    "              when(~sarc[\"subreddit\"].isin(pop_subreddit), 150).otherwise(sarc[\"subreddit\"]))"
   ]
  },
  {
   "cell_type": "code",
   "execution_count": 82,
   "metadata": {},
   "outputs": [
    {
     "name": "stdout",
     "output_type": "stream",
     "text": [
      "+---------+--------+\n",
      "|subreddit|   count|\n",
      "+---------+--------+\n",
      "|        1|69444930|\n",
      "|        2|32356724|\n",
      "|        3|17450987|\n",
      "|        0| 8140676|\n",
      "|        4| 7405748|\n",
      "|        5| 6944588|\n",
      "|        6| 5232785|\n",
      "|        7| 3968578|\n",
      "|        8| 3115913|\n",
      "|       -1| 2812235|\n",
      "|        9| 2502566|\n",
      "|       10| 2051214|\n",
      "|       11| 1722294|\n",
      "|      150| 1643599|\n",
      "|       12| 1464941|\n",
      "|       -2| 1421861|\n",
      "|       13| 1263615|\n",
      "|       14| 1101061|\n",
      "|       15|  966318|\n",
      "|       16|  855833|\n",
      "+---------+--------+\n",
      "only showing top 20 rows\n",
      "\n"
     ]
    }
   ],
   "source": [
    "# Verification:\n",
    "\n",
    "sarc.groupBy('subreddit').count().orderBy(['count'],ascending = [0]).show()"
   ]
  },
  {
   "cell_type": "code",
   "execution_count": 83,
   "metadata": {},
   "outputs": [
    {
     "name": "stdout",
     "output_type": "stream",
     "text": [
      "+---------+-----+\n",
      "|subreddit|count|\n",
      "+---------+-----+\n",
      "|     null|  985|\n",
      "|      -27|13885|\n",
      "|      121|14194|\n",
      "|      120|14342|\n",
      "|      119|14651|\n",
      "|      118|14993|\n",
      "|      117|15010|\n",
      "|      -26|15197|\n",
      "|      116|15422|\n",
      "|      115|15952|\n",
      "|      114|16009|\n",
      "|      113|16270|\n",
      "|      112|16484|\n",
      "|      -25|17105|\n",
      "|      111|17178|\n",
      "|      110|17286|\n",
      "|      109|17438|\n",
      "|      108|17862|\n",
      "|      107|18255|\n",
      "|      106|18501|\n",
      "+---------+-----+\n",
      "only showing top 20 rows\n",
      "\n"
     ]
    }
   ],
   "source": [
    "sarc.groupBy('subreddit').count().orderBy(['count'],ascending = [1]).show()"
   ]
  },
  {
   "cell_type": "code",
   "execution_count": 86,
   "metadata": {},
   "outputs": [
    {
     "name": "stdout",
     "output_type": "stream",
     "text": [
      "+--------+\n",
      "|count(1)|\n",
      "+--------+\n",
      "|     985|\n",
      "+--------+\n",
      "\n"
     ]
    }
   ],
   "source": [
    "sqlContext.sql(\"select count(*) from olencb.sarc where subreddit IS NULL\").show()"
   ]
  },
  {
   "cell_type": "code",
   "execution_count": null,
   "metadata": {},
   "outputs": [],
   "source": []
  }
 ],
 "metadata": {
  "kernelspec": {
   "display_name": "pySpark 4G 32e",
   "language": "python",
   "name": "pyspark2_4g32e"
  },
  "language_info": {
   "codemirror_mode": {
    "name": "ipython",
    "version": 3
   },
   "file_extension": ".py",
   "mimetype": "text/x-python",
   "name": "python",
   "nbconvert_exporter": "python",
   "pygments_lexer": "ipython3",
   "version": "3.6.8"
  }
 },
 "nbformat": 4,
 "nbformat_minor": 2
}
