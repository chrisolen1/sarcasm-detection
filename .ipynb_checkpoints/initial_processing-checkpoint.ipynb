{
 "cells": [
  {
   "cell_type": "code",
   "execution_count": 2,
   "metadata": {},
   "outputs": [
    {
     "data": {
      "text/plain": [
       "'\\n!nohup wget -qO- https://nlp.cs.princeton.edu/SARC/1.0/main/train-unbalanced.csv.bz2 | bunzip2 -c | gsutil cp - gs://sarc-bucket-5/reddit.csv &\\n'"
      ]
     },
     "execution_count": 2,
     "metadata": {},
     "output_type": "execute_result"
    }
   ],
   "source": [
    "# download, unzip data\n",
    "\n",
    "\"\"\"\n",
    "!nohup wget -qO- https://nlp.cs.princeton.edu/SARC/1.0/main/train-unbalanced.csv.bz2 | bunzip2 -c | gsutil cp - gs://sarc-bucket-5/reddit.csv &\n",
    "\"\"\""
   ]
  },
  {
   "cell_type": "code",
   "execution_count": 1,
   "metadata": {},
   "outputs": [],
   "source": [
    "import pyspark\n",
    "\n",
    "from pyspark.context import SparkContext\n",
    "from pyspark.sql.session import SparkSession\n",
    "from pyspark.sql import functions as F\n",
    "from pyspark.sql.types import *\n",
    "\n",
    "import pandas as pd\n",
    "\n",
    "import re\n",
    "\n",
    "import random\n",
    "\n",
    "import matplotlib.pyplot as plt\n",
    "%matplotlib inline"
   ]
  },
  {
   "cell_type": "code",
   "execution_count": 2,
   "metadata": {},
   "outputs": [
    {
     "data": {
      "text/plain": [
       "'\\nTest to see if Spark is up and running:\\n\\nnumberRDD = sc.parallelize(range(1, 10000))\\nevens = numberRDD.filter(lambda x: x % 2 == 0)\\ndoubled = numberRDD.map(lambda x: x * 2)\\nfives = numberRDD.filter(lambda x: x % 5 == 0)\\ntens = evens.intersection(fives)\\nsortedTens = tens.sortBy(lambda x: x)\\nsortedTens\\n'"
      ]
     },
     "execution_count": 2,
     "metadata": {},
     "output_type": "execute_result"
    }
   ],
   "source": [
    "\"\"\"\n",
    "Test to see if Spark is up and running:\n",
    "\n",
    "numberRDD = sc.parallelize(range(1, 10000))\n",
    "evens = numberRDD.filter(lambda x: x % 2 == 0)\n",
    "doubled = numberRDD.map(lambda x: x * 2)\n",
    "fives = numberRDD.filter(lambda x: x % 5 == 0)\n",
    "tens = evens.intersection(fives)\n",
    "sortedTens = tens.sortBy(lambda x: x)\n",
    "sortedTens\n",
    "\"\"\""
   ]
  },
  {
   "cell_type": "code",
   "execution_count": 3,
   "metadata": {},
   "outputs": [],
   "source": [
    "config = pyspark.SparkConf().setAll([(\"spark.dynamicAllocation.enabled\",\"True\"),\n",
    "                                    (\"spark.executor.cores\",\"2\")])"
   ]
  },
  {
   "cell_type": "code",
   "execution_count": 4,
   "metadata": {},
   "outputs": [],
   "source": [
    "sc = SparkContext(conf=config)\n",
    "spark = SparkSession(sc)"
   ]
  },
  {
   "cell_type": "code",
   "execution_count": 5,
   "metadata": {},
   "outputs": [
    {
     "name": "stdout",
     "output_type": "stream",
     "text": [
      "CPU times: user 21.7 ms, sys: 13.2 ms, total: 35 ms\n",
      "Wall time: 1min 52s\n"
     ]
    }
   ],
   "source": [
    "# Load in the entire dataset:\n",
    "\n",
    "%time sarc = spark.read.csv(\"gs://sarc-bucket-5/reddit.csv\", inferSchema=True, header=False, sep = '\\t')"
   ]
  },
  {
   "cell_type": "code",
   "execution_count": 6,
   "metadata": {},
   "outputs": [],
   "source": [
    "# Rename columns: \n",
    "\n",
    "sarc = sarc.withColumnRenamed('_c0','label').withColumnRenamed('_c1','comment').withColumnRenamed('_c2','author')\\\n",
    ".withColumnRenamed('_c3','subreddit').withColumnRenamed('_c4','score').withColumnRenamed('_c5','ups')\\\n",
    ".withColumnRenamed('_c6','downs').withColumnRenamed('_c7','date').withColumnRenamed('_c8','created_utc')\\\n",
    ".withColumnRenamed('_c9','parent_comment')"
   ]
  },
  {
   "cell_type": "code",
   "execution_count": 7,
   "metadata": {},
   "outputs": [
    {
     "name": "stdout",
     "output_type": "stream",
     "text": [
      "root\n",
      " |-- label: integer (nullable = true)\n",
      " |-- comment: string (nullable = true)\n",
      " |-- author: string (nullable = true)\n",
      " |-- subreddit: string (nullable = true)\n",
      " |-- score: integer (nullable = true)\n",
      " |-- ups: integer (nullable = true)\n",
      " |-- downs: integer (nullable = true)\n",
      " |-- date: string (nullable = true)\n",
      " |-- created_utc: integer (nullable = true)\n",
      " |-- parent_comment: string (nullable = true)\n",
      "\n"
     ]
    }
   ],
   "source": [
    "sarc.printSchema()"
   ]
  },
  {
   "cell_type": "code",
   "execution_count": 8,
   "metadata": {},
   "outputs": [
    {
     "name": "stdout",
     "output_type": "stream",
     "text": [
      "+-----+--------------------+----------+---------+-----+---+-----+-------+-----------+--------------------+\n",
      "|label|             comment|    author|subreddit|score|ups|downs|   date|created_utc|      parent_comment|\n",
      "+-----+--------------------+----------+---------+-----+---+-----+-------+-----------+--------------------+\n",
      "|    0|50 and it forces ...|Mattys1174|   NHLHUT|    1| -1|   -1|2017-02| 1485907243|Does anyone know ...|\n",
      "|    0|     Marchand who ;)|Mattys1174|   NHLHUT|    2| -1|   -1|2017-02| 1486003855|This post wasn't ...|\n",
      "|    0|Maybe theyll hire...|Mattys1174|   hockey|    5| -1|   -1|2017-02| 1486525469|Bruins Relieve Cl...|\n",
      "|    0| Thats a lotta dough|Mattys1174|   NHLHUT|    1| -1|   -1|2017-02| 1486584244|Bergeron for 500$...|\n",
      "|    0|Nah youre the bes...|Mattys1174|   NHLHUT|    1| -1|   -1|2017-02| 1486602648|Second best strea...|\n",
      "|    0|                  +1|Mattys1174|   NHLHUT|    2| -1|   -1|2017-02| 1486658528|As someone sittin...|\n",
      "|    0|Yea the newborns ...|Mattys1174|   NHLHUT|    1| -1|   -1|2017-02| 1486674361|You know if they ...|\n",
      "|    0|Patches isnt gett...|Mattys1174|   NHLHUT|    1| -1|   -1|2017-02| 1486699267|Confessions of a ...|\n",
      "|    0|                 Hah|Mattys1174|   NHLHUT|    1| -1|   -1|2017-02| 1486936580|Sorry I forgot to...|\n",
      "|    0|Thats very true a...|Mattys1174|   NHLHUT|    1| -1|   -1|2017-02| 1487113086|Burning out a lin...|\n",
      "+-----+--------------------+----------+---------+-----+---+-----+-------+-----------+--------------------+\n",
      "only showing top 10 rows\n",
      "\n",
      "CPU times: user 4.04 ms, sys: 4 µs, total: 4.04 ms\n",
      "Wall time: 670 ms\n"
     ]
    }
   ],
   "source": [
    "%time sarc.show(10)"
   ]
  },
  {
   "cell_type": "code",
   "execution_count": 9,
   "metadata": {},
   "outputs": [
    {
     "name": "stdout",
     "output_type": "stream",
     "text": [
      "CPU times: user 9.24 ms, sys: 0 ns, total: 9.24 ms\n",
      "Wall time: 26 s\n"
     ]
    },
    {
     "data": {
      "text/plain": [
       "187401972"
      ]
     },
     "execution_count": 9,
     "metadata": {},
     "output_type": "execute_result"
    }
   ],
   "source": [
    "# Get number of samples:\n",
    "\n",
    "%time sarc.count()"
   ]
  },
  {
   "cell_type": "code",
   "execution_count": 10,
   "metadata": {},
   "outputs": [
    {
     "name": "stdout",
     "output_type": "stream",
     "text": [
      "+-----+--------+\n",
      "|score|   count|\n",
      "+-----+--------+\n",
      "|    1|69444930|\n",
      "|    2|32356724|\n",
      "|    3|17450987|\n",
      "|    0| 8140676|\n",
      "|    4| 7405748|\n",
      "|    5| 6944588|\n",
      "|    6| 5232785|\n",
      "|    7| 3968578|\n",
      "|    8| 3115913|\n",
      "|   -1| 2812235|\n",
      "|    9| 2502566|\n",
      "|   10| 2051214|\n",
      "|   11| 1722294|\n",
      "|   12| 1464941|\n",
      "|   -2| 1421861|\n",
      "|   13| 1263615|\n",
      "|   14| 1101061|\n",
      "|   15|  966318|\n",
      "|   16|  855833|\n",
      "|   -3|  765137|\n",
      "+-----+--------+\n",
      "only showing top 20 rows\n",
      "\n",
      "CPU times: user 10.8 ms, sys: 11.6 ms, total: 22.4 ms\n",
      "Wall time: 1min 1s\n"
     ]
    }
   ],
   "source": [
    "# Get value count of 'score' feature:\n",
    "\n",
    "%time sarc.groupBy('score').count().orderBy([\"count\"], ascending=[0]).show()"
   ]
  },
  {
   "cell_type": "code",
   "execution_count": 11,
   "metadata": {},
   "outputs": [],
   "source": [
    "# Dropping columns we probably won't need:\n",
    "\n",
    "sarc = sarc.drop('created_utc')\n",
    "sarc = sarc.drop('date')\n",
    "\n",
    "\"\"\"\n",
    "\n",
    "These features could be helpful in a reddit context but would be hard to generalize \n",
    "outside of reddit\n",
    "\n",
    "\"\"\"\n",
    "sarc = sarc.drop('ups')\n",
    "sarc = sarc.drop('downs')\n",
    "sarc = sarc.drop('author')\n",
    "sarc = sarc.drop('score')"
   ]
  },
  {
   "cell_type": "code",
   "execution_count": 12,
   "metadata": {},
   "outputs": [
    {
     "data": {
      "text/plain": [
       "<function __main__.n_comment_words(text)>"
      ]
     },
     "execution_count": 12,
     "metadata": {},
     "output_type": "execute_result"
    }
   ],
   "source": [
    "# Count the number of words in a comment:\n",
    "\n",
    "def n_comment_words(text):\n",
    "    return len(re.findall(\"\\s+|\\.\\s|\\.\\w+(?!\\.)|.$\",text)) \n",
    "\n",
    "spark.udf.register(\"n_comment_words\", n_comment_words, ShortType()) "
   ]
  },
  {
   "cell_type": "code",
   "execution_count": 13,
   "metadata": {},
   "outputs": [],
   "source": [
    "n_comment_words_table = F.udf(n_comment_words, ShortType())"
   ]
  },
  {
   "cell_type": "code",
   "execution_count": 14,
   "metadata": {},
   "outputs": [
    {
     "name": "stdout",
     "output_type": "stream",
     "text": [
      "+--------------------+-------+\n",
      "|             comment|n_words|\n",
      "+--------------------+-------+\n",
      "|50 and it forces ...|     11|\n",
      "|     Marchand who ;)|      3|\n",
      "|Maybe theyll hire...|     27|\n",
      "| Thats a lotta dough|      4|\n",
      "|Nah youre the bes...|     10|\n",
      "|                  +1|      1|\n",
      "|Yea the newborns ...|     56|\n",
      "|Patches isnt gett...|      5|\n",
      "|                 Hah|      1|\n",
      "|Thats very true a...|      5|\n",
      "|Im not a guy if y...|     13|\n",
      "|         KATTENSHIRK|      1|\n",
      "|Dude, stop being ...|      5|\n",
      "|I would not get i...|      9|\n",
      "|I heard from my b...|     22|\n",
      "|Torey, and torey'...|     12|\n",
      "|             I lov u|      3|\n",
      "|You did this real...|      5|\n",
      "|        What te fuck|      3|\n",
      "|Me too honestly, ...|     14|\n",
      "+--------------------+-------+\n",
      "only showing top 20 rows\n",
      "\n",
      "CPU times: user 3.71 ms, sys: 7.94 ms, total: 11.6 ms\n",
      "Wall time: 2.34 s\n"
     ]
    }
   ],
   "source": [
    "# Applying udf, displaying results:\n",
    "\n",
    "%time sarc.select(\"comment\", n_comment_words_table(\"comment\").alias(\"n_words\")).show()"
   ]
  },
  {
   "cell_type": "code",
   "execution_count": 15,
   "metadata": {},
   "outputs": [],
   "source": [
    "# Adding new column to the original spark dataframe:\n",
    "\n",
    "sarc = sarc.withColumn(\"n_comment_words\", n_comment_words_table(\"comment\"))"
   ]
  },
  {
   "cell_type": "code",
   "execution_count": 16,
   "metadata": {},
   "outputs": [],
   "source": [
    "# Applying the filter for comments fewer than three words:\n",
    "\n",
    "sarc = sarc.filter(sarc['n_comment_words']>=3) # arbitrarily chosen"
   ]
  },
  {
   "cell_type": "code",
   "execution_count": 17,
   "metadata": {},
   "outputs": [
    {
     "name": "stdout",
     "output_type": "stream",
     "text": [
      "New total number of records: 163896185\n",
      "CPU times: user 72.7 ms, sys: 36 ms, total: 109 ms\n",
      "Wall time: 3min 50s\n"
     ]
    }
   ],
   "source": [
    "%time print(\"New total number of records: {}\".format(sarc.count()))"
   ]
  },
  {
   "cell_type": "code",
   "execution_count": 18,
   "metadata": {},
   "outputs": [],
   "source": [
    "# Getting rid of over-sized comments:\n",
    "\n",
    "sarc = sarc.filter(sarc['n_comment_words']<=50) # arbitrarily chosen"
   ]
  },
  {
   "cell_type": "code",
   "execution_count": 19,
   "metadata": {},
   "outputs": [
    {
     "name": "stdout",
     "output_type": "stream",
     "text": [
      "New total number of records: 163131471\n",
      "CPU times: user 100 ms, sys: 26.3 ms, total: 127 ms\n",
      "Wall time: 5min 34s\n"
     ]
    }
   ],
   "source": [
    "%time print(\"New total number of records: {}\".format(sarc.count()))"
   ]
  },
  {
   "cell_type": "code",
   "execution_count": 20,
   "metadata": {},
   "outputs": [],
   "source": [
    "# Dropping n_words and n_comment_words columns:\n",
    "\n",
    "sarc = sarc.drop('n_words')\n",
    "sarc = sarc.drop('n_comment_words')"
   ]
  },
  {
   "cell_type": "code",
   "execution_count": 21,
   "metadata": {},
   "outputs": [
    {
     "name": "stdout",
     "output_type": "stream",
     "text": [
      "+-----+--------------------+---------+--------------------+\n",
      "|label|             comment|subreddit|      parent_comment|\n",
      "+-----+--------------------+---------+--------------------+\n",
      "|    0|50 and it forces ...|   NHLHUT|Does anyone know ...|\n",
      "|    0|     Marchand who ;)|   NHLHUT|This post wasn't ...|\n",
      "|    0|Maybe theyll hire...|   hockey|Bruins Relieve Cl...|\n",
      "|    0| Thats a lotta dough|   NHLHUT|Bergeron for 500$...|\n",
      "|    0|Nah youre the bes...|   NHLHUT|Second best strea...|\n",
      "|    0|Patches isnt gett...|   NHLHUT|Confessions of a ...|\n",
      "|    0|Thats very true a...|   NHLHUT|Burning out a lin...|\n",
      "|    0|Im not a guy if y...|   NHLHUT|Just a girl looki...|\n",
      "|    0|Dude, stop being ...|   NHLHUT|I have a post wit...|\n",
      "|    0|I would not get i...|   NHLHUT|Lol! Seriously! N...|\n",
      "+-----+--------------------+---------+--------------------+\n",
      "only showing top 10 rows\n",
      "\n",
      "CPU times: user 0 ns, sys: 3.65 ms, total: 3.65 ms\n",
      "Wall time: 532 ms\n"
     ]
    }
   ],
   "source": [
    "%time sarc.show(10)"
   ]
  },
  {
   "cell_type": "code",
   "execution_count": 22,
   "metadata": {},
   "outputs": [],
   "source": [
    "# Concatenating parent_comment and comment for full context:\n",
    "\n",
    "sarc = sarc.withColumn('context',F.concat(F.col(\"parent_comment\"), F.lit(\" \"), F.col(\"comment\")))"
   ]
  },
  {
   "cell_type": "code",
   "execution_count": 23,
   "metadata": {},
   "outputs": [
    {
     "name": "stdout",
     "output_type": "stream",
     "text": [
      "+-----+---------+--------------------+\n",
      "|label|subreddit|             context|\n",
      "+-----+---------+--------------------+\n",
      "|    0|   NHLHUT|Does anyone know ...|\n",
      "|    0|   NHLHUT|This post wasn't ...|\n",
      "|    0|   hockey|Bruins Relieve Cl...|\n",
      "|    0|   NHLHUT|Bergeron for 500$...|\n",
      "|    0|   NHLHUT|Second best strea...|\n",
      "|    0|   NHLHUT|Confessions of a ...|\n",
      "|    0|   NHLHUT|Burning out a lin...|\n",
      "|    0|   NHLHUT|Just a girl looki...|\n",
      "|    0|   NHLHUT|I have a post wit...|\n",
      "|    0|   NHLHUT|Lol! Seriously! N...|\n",
      "+-----+---------+--------------------+\n",
      "only showing top 10 rows\n",
      "\n",
      "CPU times: user 1.45 ms, sys: 242 µs, total: 1.69 ms\n",
      "Wall time: 465 ms\n"
     ]
    }
   ],
   "source": [
    "# Dropping separate parent_comment and comment colunns:\n",
    "\n",
    "sarc = sarc.drop('comment')\n",
    "sarc = sarc.drop('parent_comment')\n",
    "\n",
    "%time sarc.show(10)"
   ]
  },
  {
   "cell_type": "code",
   "execution_count": 24,
   "metadata": {},
   "outputs": [
    {
     "name": "stdout",
     "output_type": "stream",
     "text": [
      "+-----+---------+-------+\n",
      "|label|subreddit|context|\n",
      "+-----+---------+-------+\n",
      "|    0|      799|    799|\n",
      "+-----+---------+-------+\n",
      "\n",
      "CPU times: user 108 ms, sys: 28.3 ms, total: 137 ms\n",
      "Wall time: 5min 38s\n"
     ]
    }
   ],
   "source": [
    "# Note the null values:\n",
    "\n",
    "%time sarc.select([F.count(F.when(F.isnull(c), c)).alias(c) for c in sarc.columns]).show()"
   ]
  },
  {
   "cell_type": "code",
   "execution_count": 25,
   "metadata": {},
   "outputs": [],
   "source": [
    "# Remove the null values:\n",
    "\n",
    "sarc = sarc.where(F.col(\"context\").isNotNull())"
   ]
  },
  {
   "cell_type": "code",
   "execution_count": 27,
   "metadata": {},
   "outputs": [
    {
     "name": "stdout",
     "output_type": "stream",
     "text": [
      "+-----+---------+-------+\n",
      "|label|subreddit|context|\n",
      "+-----+---------+-------+\n",
      "|    0|        0|      0|\n",
      "+-----+---------+-------+\n",
      "\n",
      "CPU times: user 110 ms, sys: 22.6 ms, total: 132 ms\n",
      "Wall time: 5min 45s\n"
     ]
    }
   ],
   "source": [
    "# Verifying the result:\n",
    "\n",
    "%time sarc.select([F.count(F.when(F.isnull(c), c)).alias(c) for c in sarc.columns]).show()"
   ]
  },
  {
   "cell_type": "code",
   "execution_count": 28,
   "metadata": {},
   "outputs": [
    {
     "name": "stdout",
     "output_type": "stream",
     "text": [
      "CPU times: user 93.5 ms, sys: 42.8 ms, total: 136 ms\n",
      "Wall time: 6min 41s\n"
     ]
    }
   ],
   "source": [
    "# Writing truncated dataframe to gcs:\n",
    "\n",
    "%time sarc.write.csv('gs://sarc-bucket-5/reddit_processed.csv', mode=\"overwrite\")"
   ]
  },
  {
   "cell_type": "code",
   "execution_count": 29,
   "metadata": {},
   "outputs": [
    {
     "name": "stdout",
     "output_type": "stream",
     "text": [
      "+--------------------+--------+\n",
      "|           subreddit|   count|\n",
      "+--------------------+--------+\n",
      "|           AskReddit|13912287|\n",
      "|            politics| 3987395|\n",
      "|               funny| 3553485|\n",
      "|                pics| 3090176|\n",
      "|                 nfl| 2931774|\n",
      "|                 nba| 2835460|\n",
      "|     leagueoflegends| 2474871|\n",
      "|           worldnews| 2461930|\n",
      "|       todayilearned| 2230701|\n",
      "|              gaming| 2141765|\n",
      "|              videos| 2132303|\n",
      "|       AdviceAnimals| 1982689|\n",
      "|                news| 1930852|\n",
      "|                 WTF| 1883286|\n",
      "|          The_Donald| 1729085|\n",
      "|        pcmasterrace| 1638541|\n",
      "|              hockey| 1602605|\n",
      "|              soccer| 1551522|\n",
      "|              movies| 1310982|\n",
      "|     GlobalOffensive| 1188153|\n",
      "|       SquaredCircle| 1147085|\n",
      "|                 CFB| 1142279|\n",
      "|               DotA2| 1103664|\n",
      "|                gifs| 1019627|\n",
      "|             atheism|  809594|\n",
      "|          technology|  770018|\n",
      "|      TumblrInAction|  738262|\n",
      "|            baseball|  736908|\n",
      "|      Showerthoughts|  685255|\n",
      "|           Overwatch|  661645|\n",
      "|         hearthstone|  620753|\n",
      "|                 MMA|  620729|\n",
      "|      DestinyTheGame|  608361|\n",
      "|         hiphopheads|  602112|\n",
      "|                 wow|  582331|\n",
      "|           teenagers|  581783|\n",
      "|             Android|  557614|\n",
      "|                 aww|  530899|\n",
      "|               Games|  511627|\n",
      "|   mildlyinteresting|  485102|\n",
      "|                guns|  460239|\n",
      "|               trees|  458142|\n",
      "|              canada|  455800|\n",
      "|              europe|  448517|\n",
      "|              AskMen|  431178|\n",
      "|               anime|  418086|\n",
      "|            magicTCG|  416481|\n",
      "|       unitedkingdom|  416245|\n",
      "|           australia|  416200|\n",
      "|     fantasyfootball|  414490|\n",
      "|             pokemon|  411177|\n",
      "|           2007scape|  410716|\n",
      "|             xboxone|  400947|\n",
      "|               india|  395806|\n",
      "|  BlackPeopleTwitter|  391836|\n",
      "|                 tf2|  369782|\n",
      "|       CringeAnarchy|  352577|\n",
      "|          conspiracy|  351535|\n",
      "|           smashbros|  351328|\n",
      "|                 PS4|  349136|\n",
      "|               Smite|  338591|\n",
      "|               4chan|  336498|\n",
      "|          cringepics|  331406|\n",
      "|          television|  328737|\n",
      "|      KotakuInAction|  322240|\n",
      "|                cars|  317847|\n",
      "|                 Eve|  311908|\n",
      "| fivenightsatfreddys|  311078|\n",
      "|   CollegeBasketball|  303910|\n",
      "|                IAmA|  303520|\n",
      "|   explainlikeimfive|  298511|\n",
      "|RocketLeagueExchange|  297124|\n",
      "|            AskWomen|  296815|\n",
      "|         nottheonion|  296195|\n",
      "|            formula1|  294590|\n",
      "|             Fitness|  288442|\n",
      "|      SubredditDrama|  287910|\n",
      "|          ukpolitics|  287481|\n",
      "|          BigBrother|  283490|\n",
      "|               Music|  279574|\n",
      "|           pokemongo|  277243|\n",
      "|         whowouldwin|  275190|\n",
      "| SandersForPresident|  266857|\n",
      "|           Minecraft|  266807|\n",
      "|           starcraft|  263699|\n",
      "|            StarWars|  257814|\n",
      "|             Bitcoin|  256804|\n",
      "|               apple|  254184|\n",
      "|        Christianity|  253316|\n",
      "|              asoiaf|  249007|\n",
      "|             OkCupid|  248668|\n",
      "|       relationships|  248421|\n",
      "|                FIFA|  248041|\n",
      "|             science|  242514|\n",
      "|          reddit.com|  240252|\n",
      "|         pathofexile|  240023|\n",
      "|         Libertarian|  239281|\n",
      "|             Fallout|  238020|\n",
      "|         CFBOffTopic|  234291|\n",
      "|electronic_cigarette|  232620|\n",
      "+--------------------+--------+\n",
      "only showing top 100 rows\n",
      "\n",
      "CPU times: user 105 ms, sys: 60.8 ms, total: 165 ms\n",
      "Wall time: 5min 48s\n"
     ]
    }
   ],
   "source": [
    "# Checking out frequencies amongst subreddit categories:\n",
    "\n",
    "%time sarc.groupBy('subreddit').count().sort(F.col(\"count\").desc()).show(100)"
   ]
  },
  {
   "cell_type": "code",
   "execution_count": 30,
   "metadata": {},
   "outputs": [],
   "source": [
    "# Filtering for just politics subreddit:\n",
    "\n",
    "politics = sarc.where(F.col('subreddit')=='politics')"
   ]
  },
  {
   "cell_type": "code",
   "execution_count": 31,
   "metadata": {},
   "outputs": [
    {
     "name": "stdout",
     "output_type": "stream",
     "text": [
      "+-----+---------+--------------------+\n",
      "|label|subreddit|             context|\n",
      "+-----+---------+--------------------+\n",
      "|    0| politics|I think he's heav...|\n",
      "|    0| politics|All it takes is t...|\n",
      "|    0| politics|You know he's nev...|\n",
      "|    0| politics|Go ahead and wast...|\n",
      "|    0| politics|\"Right when the m...|\n",
      "|    0| politics|he tweets, you ge...|\n",
      "|    0| politics|I am Canadian, I ...|\n",
      "|    0| politics|\"Yeah, \"\"obsessed...|\n",
      "|    0| politics|I thought better ...|\n",
      "|    0| politics|same strategy use...|\n",
      "|    0| politics|CPAC leader: The ...|\n",
      "|    0| politics|Project Veritas '...|\n",
      "|    0| politics|It is amusing but...|\n",
      "|    0| politics|The Trump-tanic h...|\n",
      "|    0| politics|Vladimir Putin sa...|\n",
      "|    0| politics|I've heard lots o...|\n",
      "|    0| politics|That could be an ...|\n",
      "|    0| politics|Bet he uses Netsc...|\n",
      "|    0| politics|I'm no lawyer, bu...|\n",
      "|    0| politics|Why hasn't she be...|\n",
      "+-----+---------+--------------------+\n",
      "only showing top 20 rows\n",
      "\n",
      "CPU times: user 2.79 ms, sys: 548 µs, total: 3.33 ms\n",
      "Wall time: 1.88 s\n"
     ]
    }
   ],
   "source": [
    "%time politics.show()"
   ]
  },
  {
   "cell_type": "code",
   "execution_count": 32,
   "metadata": {},
   "outputs": [
    {
     "name": "stdout",
     "output_type": "stream",
     "text": [
      "New total number of records: 3987395\n",
      "CPU times: user 64.3 ms, sys: 23 ms, total: 87.4 ms\n",
      "Wall time: 1min 47s\n"
     ]
    }
   ],
   "source": [
    "%time print(\"New total number of records: {}\".format(politics.count()))"
   ]
  },
  {
   "cell_type": "code",
   "execution_count": 33,
   "metadata": {},
   "outputs": [
    {
     "name": "stdout",
     "output_type": "stream",
     "text": [
      "CPU times: user 78.8 ms, sys: 13.2 ms, total: 92 ms\n",
      "Wall time: 1min 58s\n"
     ]
    }
   ],
   "source": [
    "# Writing politics dataframe to gcs:\n",
    "\n",
    "%time politics.write.csv('gs://sarc-bucket-5/politics.csv', mode=\"overwrite\")"
   ]
  },
  {
   "cell_type": "code",
   "execution_count": 34,
   "metadata": {},
   "outputs": [
    {
     "name": "stdout",
     "output_type": "stream",
     "text": [
      "New total number of records: 824297\n",
      "CPU times: user 62 ms, sys: 22.4 ms, total: 84.4 ms\n",
      "Wall time: 1min 41s\n"
     ]
    }
   ],
   "source": [
    "# Filtering for just science subreddit:\n",
    "\n",
    "teen_sci = sarc.where((F.col('subreddit')=='science') | (F.col('subreddit')=='teenagers'))\n",
    "%time print(\"New total number of records: {}\".format(teen_sci.count()))"
   ]
  },
  {
   "cell_type": "code",
   "execution_count": 35,
   "metadata": {},
   "outputs": [
    {
     "name": "stdout",
     "output_type": "stream",
     "text": [
      "CPU times: user 71.8 ms, sys: 16.1 ms, total: 87.8 ms\n",
      "Wall time: 1min 49s\n"
     ]
    }
   ],
   "source": [
    "# Writing science dataframe to gcs:\n",
    "\n",
    "%time teen_sci.write.csv('gs://sarc-bucket-5/teen_sci.csv', mode=\"overwrite\")"
   ]
  },
  {
   "cell_type": "code",
   "execution_count": 14,
   "metadata": {},
   "outputs": [],
   "source": [
    "sc.stop()"
   ]
  },
  {
   "cell_type": "code",
   "execution_count": null,
   "metadata": {},
   "outputs": [],
   "source": []
  }
 ],
 "metadata": {
  "kernelspec": {
   "display_name": "Python 3",
   "language": "python",
   "name": "python3"
  },
  "language_info": {
   "codemirror_mode": {
    "name": "ipython",
    "version": 3
   },
   "file_extension": ".py",
   "mimetype": "text/x-python",
   "name": "python",
   "nbconvert_exporter": "python",
   "pygments_lexer": "ipython3",
   "version": "3.6.10"
  }
 },
 "nbformat": 4,
 "nbformat_minor": 2
}
