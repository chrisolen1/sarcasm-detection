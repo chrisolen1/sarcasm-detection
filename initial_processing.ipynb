{
 "cells": [
  {
   "cell_type": "code",
   "execution_count": 21,
   "metadata": {},
   "outputs": [
    {
     "data": {
      "text/plain": [
       "'\\n!nohup wget -qO- https://nlp.cs.princeton.edu/SARC/1.0/main/train-unbalanced.csv.bz2 | bunzip2 -c | gsutil cp - gs://sarc-bucket-3wx3ce6drvftuy/reddit.csv &\\n'"
      ]
     },
     "execution_count": 21,
     "metadata": {},
     "output_type": "execute_result"
    }
   ],
   "source": [
    "# download, unzip data\n",
    "\n",
    "\"\"\"\n",
    "!nohup wget -qO- https://nlp.cs.princeton.edu/SARC/1.0/main/train-unbalanced.csv.bz2 | bunzip2 -c | gsutil cp - gs://sarc-bucket-3wx3ce6drvftuy/reddit.csv &\n",
    "\"\"\""
   ]
  },
  {
   "cell_type": "code",
   "execution_count": 22,
   "metadata": {},
   "outputs": [],
   "source": [
    "import pyspark\n",
    "\n",
    "from pyspark.sql import SparkSession\n",
    "from pyspark.sql.functions import col\n",
    "from pyspark.sql import HiveContext\n",
    "from pyspark.sql import functions as F\n",
    "from pyspark.sql.types import *\n",
    "\n",
    "from pyspark.ml.feature import HashingTF, IDF, Tokenizer\n",
    "from pyspark.ml.feature import Word2Vec\n",
    "\n",
    "import pandas as pd\n",
    "\n",
    "import re\n",
    "\n",
    "import random\n",
    "\n",
    "import socket\n",
    "\n",
    "import matplotlib.pyplot as plt\n",
    "%matplotlib inline"
   ]
  },
  {
   "cell_type": "code",
   "execution_count": 23,
   "metadata": {},
   "outputs": [],
   "source": [
    "driver_ip = socket.gethostbyname(socket.gethostname())"
   ]
  },
  {
   "cell_type": "code",
   "execution_count": 24,
   "metadata": {},
   "outputs": [
    {
     "data": {
      "text/plain": [
       "'\\nTest to see if Spark is up and running:\\n\\nnumberRDD = sc.parallelize(range(1, 10000))\\nevens = numberRDD.filter(lambda x: x % 2 == 0)\\ndoubled = numberRDD.map(lambda x: x * 2)\\nfives = numberRDD.filter(lambda x: x % 5 == 0)\\ntens = evens.intersection(fives)\\nsortedTens = tens.sortBy(lambda x: x)\\nsortedTens\\n'"
      ]
     },
     "execution_count": 24,
     "metadata": {},
     "output_type": "execute_result"
    }
   ],
   "source": [
    "\"\"\"\n",
    "Test to see if Spark is up and running:\n",
    "\n",
    "numberRDD = sc.parallelize(range(1, 10000))\n",
    "evens = numberRDD.filter(lambda x: x % 2 == 0)\n",
    "doubled = numberRDD.map(lambda x: x * 2)\n",
    "fives = numberRDD.filter(lambda x: x % 5 == 0)\n",
    "tens = evens.intersection(fives)\n",
    "sortedTens = tens.sortBy(lambda x: x)\n",
    "sortedTens\n",
    "\"\"\""
   ]
  },
  {
   "cell_type": "code",
   "execution_count": 62,
   "metadata": {},
   "outputs": [],
   "source": [
    "conf = pyspark.SparkConf().setAll([('spark.kubernetes.authenticate.caCertFile', '/var/run/secrets/kubernetes.io/serviceaccount/ca.crt'), \\\n",
    "                                   ('spark.kubernetes.authenticate.oauthTokenFile','/var/run/secrets/kubernetes.io/serviceaccount/token'), \\\n",
    "                                   ('spark.kubernetes.authenticate.driver.serviceAccountName','spark-driver-sa'), \\\n",
    "                                   ('spark.kubernetes.namespace','spark'), \\\n",
    "                                   ('spark.driver.pod.name','spark-driver'), \\\n",
    "                                   ('spark.executor.instances','16'), \\\n",
    "                                   ('spark.kubernetes.container.image','gcr.io/sarcasm-3wx3ce6drvftuy/spark-v2.4.4-worker:latest'), \\\n",
    "                                   ('spark.driver.host','spark-driver.spark.svc.cluster.local'), \\\n",
    "                                   ('spark.driver.port','29413'), \\\n",
    "                                   ('spark.driver.bindAddress',driver_ip), \\\n",
    "                                   ('spark.executor.memory','6700m'), \\\n",
    "                                   ('spark.executor.cores','1'), \\\n",
    "                                   ('spark.kubernetes.driverEnv.GCS_PROJECT_ID', 'sarcasm-3wx3ce6drvftuy'), \\\n",
    "                                   ('spark.kubernetes.driverEnv.GOOGLE_APPLICATION_CREDENTIALS', '/mnt/secrets/sarc-bucket-sa.json'), \\\n",
    "                                   ('spark.kubernetes.driver.secrets.sarc-bucket-sa','/mnt/secrets'), \\\n",
    "                                   ('spark.kubernetes.executor.secrets.sarc-bucket-sa','/mnt/secrets'), \\\n",
    "                                   ('spark.executorEnv.GCS_PROJECT_ID','sarcasm-3wx3ce6drvftuy'), \\\n",
    "                                   ('spark.executorEnv.GOOGLE_APPLICATION_CREDENTIALS','/mnt/secrets/sarc-bucket-sa.json'), \\\n",
    "                                   ('spark.hadoop.google.cloud.auth.service.account.enable','true'), \\\n",
    "                                   ('spark.hadoop.google.cloud.auth.service.account.json.keyfile','/mnt/secrets/sarc-bucket-sa.json'), \\\n",
    "                                   ('spark.hadoop.fs.gs.project.id','sarcasm-3wx3ce6drvftuy'), \\\n",
    "                                   ('spark.hadoop.fs.gs.system.bucket','sarc-bucket-3wx3ce6drvftuy')])"
   ]
  },
  {
   "cell_type": "code",
   "execution_count": 63,
   "metadata": {},
   "outputs": [],
   "source": [
    "spark = SparkSession.builder.master(\"k8s://https://kubernetes.default.svc.cluster.local:443\").appName(\"sarc\").config(conf=conf).getOrCreate()"
   ]
  },
  {
   "cell_type": "code",
   "execution_count": 64,
   "metadata": {},
   "outputs": [],
   "source": [
    "sc = spark.sparkContext"
   ]
  },
  {
   "cell_type": "code",
   "execution_count": 73,
   "metadata": {},
   "outputs": [
    {
     "name": "stdout",
     "output_type": "stream",
     "text": [
      "CPU times: user 14.8 ms, sys: 5.35 ms, total: 20.1 ms\n",
      "Wall time: 1min 30s\n"
     ]
    }
   ],
   "source": [
    "# Load in the entire dataset:\n",
    "\n",
    "%time sarc = spark.read.csv(\"gs://sarc-bucket-3wx3ce6drvftuy/reddit.csv\", inferSchema=True, header=False, sep = '\\t')"
   ]
  },
  {
   "cell_type": "code",
   "execution_count": 77,
   "metadata": {},
   "outputs": [],
   "source": [
    "# Rename columns: \n",
    "\n",
    "sarc = sarc.withColumnRenamed('_c0','label').withColumnRenamed('_c1','comment').withColumnRenamed('_c2','author')\\\n",
    ".withColumnRenamed('_c3','subreddit').withColumnRenamed('_c4','score').withColumnRenamed('_c5','ups')\\\n",
    ".withColumnRenamed('_c6','downs').withColumnRenamed('_c7','date').withColumnRenamed('_c8','created_utc')\\\n",
    ".withColumnRenamed('_c9','parent_comment')"
   ]
  },
  {
   "cell_type": "code",
   "execution_count": 78,
   "metadata": {},
   "outputs": [
    {
     "name": "stdout",
     "output_type": "stream",
     "text": [
      "root\n",
      " |-- label: integer (nullable = true)\n",
      " |-- comment: string (nullable = true)\n",
      " |-- author: string (nullable = true)\n",
      " |-- subreddit: string (nullable = true)\n",
      " |-- score: integer (nullable = true)\n",
      " |-- ups: integer (nullable = true)\n",
      " |-- downs: integer (nullable = true)\n",
      " |-- date: string (nullable = true)\n",
      " |-- created_utc: integer (nullable = true)\n",
      " |-- parent_comment: string (nullable = true)\n",
      "\n"
     ]
    }
   ],
   "source": [
    "sarc1.printSchema()"
   ]
  },
  {
   "cell_type": "code",
   "execution_count": 79,
   "metadata": {},
   "outputs": [
    {
     "name": "stdout",
     "output_type": "stream",
     "text": [
      "+-----+--------------------+----------+---------+-----+---+-----+-------+-----------+--------------------+\n",
      "|label|             comment|    author|subreddit|score|ups|downs|   date|created_utc|      parent_comment|\n",
      "+-----+--------------------+----------+---------+-----+---+-----+-------+-----------+--------------------+\n",
      "|    0|50 and it forces ...|Mattys1174|   NHLHUT|    1| -1|   -1|2017-02| 1485907243|Does anyone know ...|\n",
      "|    0|     Marchand who ;)|Mattys1174|   NHLHUT|    2| -1|   -1|2017-02| 1486003855|This post wasn't ...|\n",
      "|    0|Maybe theyll hire...|Mattys1174|   hockey|    5| -1|   -1|2017-02| 1486525469|Bruins Relieve Cl...|\n",
      "|    0| Thats a lotta dough|Mattys1174|   NHLHUT|    1| -1|   -1|2017-02| 1486584244|Bergeron for 500$...|\n",
      "|    0|Nah youre the bes...|Mattys1174|   NHLHUT|    1| -1|   -1|2017-02| 1486602648|Second best strea...|\n",
      "|    0|                  +1|Mattys1174|   NHLHUT|    2| -1|   -1|2017-02| 1486658528|As someone sittin...|\n",
      "|    0|Yea the newborns ...|Mattys1174|   NHLHUT|    1| -1|   -1|2017-02| 1486674361|You know if they ...|\n",
      "|    0|Patches isnt gett...|Mattys1174|   NHLHUT|    1| -1|   -1|2017-02| 1486699267|Confessions of a ...|\n",
      "|    0|                 Hah|Mattys1174|   NHLHUT|    1| -1|   -1|2017-02| 1486936580|Sorry I forgot to...|\n",
      "|    0|Thats very true a...|Mattys1174|   NHLHUT|    1| -1|   -1|2017-02| 1487113086|Burning out a lin...|\n",
      "+-----+--------------------+----------+---------+-----+---+-----+-------+-----------+--------------------+\n",
      "only showing top 10 rows\n",
      "\n"
     ]
    }
   ],
   "source": [
    "sarc.show(10)"
   ]
  },
  {
   "cell_type": "code",
   "execution_count": 80,
   "metadata": {},
   "outputs": [
    {
     "name": "stdout",
     "output_type": "stream",
     "text": [
      "CPU times: user 5.24 ms, sys: 3.22 ms, total: 8.46 ms\n",
      "Wall time: 39.6 s\n"
     ]
    },
    {
     "data": {
      "text/plain": [
       "187401972"
      ]
     },
     "execution_count": 80,
     "metadata": {},
     "output_type": "execute_result"
    }
   ],
   "source": [
    "# Get number of samples:\n",
    "\n",
    "%time sarc.count()"
   ]
  },
  {
   "cell_type": "code",
   "execution_count": 81,
   "metadata": {},
   "outputs": [
    {
     "name": "stdout",
     "output_type": "stream",
     "text": [
      "+-----+--------+\n",
      "|score|   count|\n",
      "+-----+--------+\n",
      "|    1|69444930|\n",
      "|    2|32356724|\n",
      "|    3|17450987|\n",
      "|    0| 8140676|\n",
      "|    4| 7405748|\n",
      "|    5| 6944588|\n",
      "|    6| 5232785|\n",
      "|    7| 3968578|\n",
      "|    8| 3115913|\n",
      "|   -1| 2812235|\n",
      "|    9| 2502566|\n",
      "|   10| 2051214|\n",
      "|   11| 1722294|\n",
      "|   12| 1464941|\n",
      "|   -2| 1421861|\n",
      "|   13| 1263615|\n",
      "|   14| 1101061|\n",
      "|   15|  966318|\n",
      "|   16|  855833|\n",
      "|   -3|  765137|\n",
      "+-----+--------+\n",
      "only showing top 20 rows\n",
      "\n",
      "CPU times: user 15.3 ms, sys: 5.49 ms, total: 20.8 ms\n",
      "Wall time: 1min 14s\n"
     ]
    }
   ],
   "source": [
    "# Get value count of 'score' feature:\n",
    "\n",
    "%time sarc.groupBy('score').count().orderBy([\"count\"], ascending=[0]).show()"
   ]
  },
  {
   "cell_type": "code",
   "execution_count": 105,
   "metadata": {},
   "outputs": [],
   "source": [
    "# Dropping columns we probably won't need:\n",
    "\n",
    "sarc = sarc.drop('created_utc')\n",
    "sarc = sarc.drop('date')\n",
    "\n",
    "\"\"\"\n",
    "\n",
    "These features could be helpful in a reddit context but would be hard to generalize \n",
    "outside of reddit\n",
    "\n",
    "\"\"\"\n",
    "sarc = sarc.drop('ups')\n",
    "sarc = sarc.drop('downs')\n",
    "sarc = sarc.drop('author')\n",
    "sarc = sarc.drop('score')"
   ]
  },
  {
   "cell_type": "code",
   "execution_count": 83,
   "metadata": {},
   "outputs": [
    {
     "data": {
      "text/plain": [
       "<function __main__.n_comment_words(text)>"
      ]
     },
     "execution_count": 83,
     "metadata": {},
     "output_type": "execute_result"
    }
   ],
   "source": [
    "# Count the number of words in a comment:\n",
    "\n",
    "def n_comment_words(text):\n",
    "    return len(re.findall(\"\\s+|\\.\\s|\\.\\w+(?!\\.)|.$\",text)) \n",
    "\n",
    "spark.udf.register(\"n_comment_words\", n_comment_words, ShortType()) "
   ]
  },
  {
   "cell_type": "code",
   "execution_count": 84,
   "metadata": {},
   "outputs": [],
   "source": [
    "n_comment_words_table = F.udf(n_comment_words, ShortType())"
   ]
  },
  {
   "cell_type": "code",
   "execution_count": 85,
   "metadata": {},
   "outputs": [
    {
     "name": "stdout",
     "output_type": "stream",
     "text": [
      "+--------------------+-------+\n",
      "|             comment|n_words|\n",
      "+--------------------+-------+\n",
      "|50 and it forces ...|     11|\n",
      "|     Marchand who ;)|      3|\n",
      "|Maybe theyll hire...|     27|\n",
      "| Thats a lotta dough|      4|\n",
      "|Nah youre the bes...|     10|\n",
      "|                  +1|      1|\n",
      "|Yea the newborns ...|     56|\n",
      "|Patches isnt gett...|      5|\n",
      "|                 Hah|      1|\n",
      "|Thats very true a...|      5|\n",
      "|Im not a guy if y...|     13|\n",
      "|         KATTENSHIRK|      1|\n",
      "|Dude, stop being ...|      5|\n",
      "|I would not get i...|      9|\n",
      "|I heard from my b...|     22|\n",
      "|Torey, and torey'...|     12|\n",
      "|             I lov u|      3|\n",
      "|You did this real...|      5|\n",
      "|        What te fuck|      3|\n",
      "|Me too honestly, ...|     14|\n",
      "+--------------------+-------+\n",
      "only showing top 20 rows\n",
      "\n",
      "CPU times: user 19.9 ms, sys: 3.96 ms, total: 23.9 ms\n",
      "Wall time: 1.13 s\n"
     ]
    }
   ],
   "source": [
    "# Applying udf, displaying results:\n",
    "\n",
    "%time sarc.select(\"comment\", n_comment_words_table(\"comment\").alias(\"n_words\")).show()"
   ]
  },
  {
   "cell_type": "code",
   "execution_count": 86,
   "metadata": {},
   "outputs": [],
   "source": [
    "# Adding new column to the original spark dataframe:\n",
    "\n",
    "sarc = sarc.withColumn(\"n_comment_words\", n_comment_words_table(\"comment\"))"
   ]
  },
  {
   "cell_type": "code",
   "execution_count": 87,
   "metadata": {},
   "outputs": [],
   "source": [
    "# Applying the filter for comments fewer than three words:\n",
    "\n",
    "sarc = sarc.filter(sarc['n_comment_words']>=3) # arbitrarily chosen"
   ]
  },
  {
   "cell_type": "code",
   "execution_count": 88,
   "metadata": {},
   "outputs": [
    {
     "name": "stdout",
     "output_type": "stream",
     "text": [
      "New total number of records: 163896185\n",
      "CPU times: user 53.6 ms, sys: 13.5 ms, total: 67 ms\n",
      "Wall time: 3min 35s\n"
     ]
    }
   ],
   "source": [
    "%time print(\"New total number of records: {}\".format(sarc.count()))"
   ]
  },
  {
   "cell_type": "code",
   "execution_count": 89,
   "metadata": {},
   "outputs": [],
   "source": [
    "# Getting rid of over-sized comments:\n",
    "\n",
    "sarc = sarc.filter(sarc['n_comment_words']<=50) # arbitrarily chosen"
   ]
  },
  {
   "cell_type": "code",
   "execution_count": 90,
   "metadata": {},
   "outputs": [
    {
     "name": "stdout",
     "output_type": "stream",
     "text": [
      "New total number of records: 163131471\n",
      "CPU times: user 55.9 ms, sys: 22.7 ms, total: 78.6 ms\n",
      "Wall time: 5min 2s\n"
     ]
    }
   ],
   "source": [
    "%time print(\"New total number of records: {}\".format(sarc.count()))"
   ]
  },
  {
   "cell_type": "code",
   "execution_count": 94,
   "metadata": {},
   "outputs": [],
   "source": [
    "# Dropping n_words and n_comment_words columns:\n",
    "\n",
    "sarc = sarc.drop('n_words')\n",
    "sarc = sarc.drop('n_comment_words')"
   ]
  },
  {
   "cell_type": "code",
   "execution_count": 95,
   "metadata": {},
   "outputs": [
    {
     "name": "stdout",
     "output_type": "stream",
     "text": [
      "+-----+--------------------+----------+---------+-----+--------------------+\n",
      "|label|             comment|    author|subreddit|score|      parent_comment|\n",
      "+-----+--------------------+----------+---------+-----+--------------------+\n",
      "|    0|50 and it forces ...|Mattys1174|   NHLHUT|    1|Does anyone know ...|\n",
      "|    0|     Marchand who ;)|Mattys1174|   NHLHUT|    2|This post wasn't ...|\n",
      "|    0|Maybe theyll hire...|Mattys1174|   hockey|    5|Bruins Relieve Cl...|\n",
      "|    0| Thats a lotta dough|Mattys1174|   NHLHUT|    1|Bergeron for 500$...|\n",
      "|    0|Nah youre the bes...|Mattys1174|   NHLHUT|    1|Second best strea...|\n",
      "|    0|Patches isnt gett...|Mattys1174|   NHLHUT|    1|Confessions of a ...|\n",
      "|    0|Thats very true a...|Mattys1174|   NHLHUT|    1|Burning out a lin...|\n",
      "|    0|Im not a guy if y...|Mattys1174|   NHLHUT|    1|Just a girl looki...|\n",
      "|    0|Dude, stop being ...|Mattys1174|   NHLHUT|   -5|I have a post wit...|\n",
      "|    0|I would not get i...|Mattys1174|   NHLHUT|    1|Lol! Seriously! N...|\n",
      "+-----+--------------------+----------+---------+-----+--------------------+\n",
      "only showing top 10 rows\n",
      "\n"
     ]
    }
   ],
   "source": [
    "sarc.show(10)"
   ]
  },
  {
   "cell_type": "code",
   "execution_count": 101,
   "metadata": {},
   "outputs": [],
   "source": [
    "# Concatenating parent_comment and comment for full context:\n",
    "\n",
    "sarc = sarc.withColumn('context',F.concat(col(\"parent_comment\"), F.lit(\" \"), F.col(\"comment\")))"
   ]
  },
  {
   "cell_type": "code",
   "execution_count": 106,
   "metadata": {},
   "outputs": [
    {
     "name": "stdout",
     "output_type": "stream",
     "text": [
      "+-----+---------+--------------------+\n",
      "|label|subreddit|             context|\n",
      "+-----+---------+--------------------+\n",
      "|    0|   NHLHUT|Does anyone know ...|\n",
      "|    0|   NHLHUT|This post wasn't ...|\n",
      "|    0|   hockey|Bruins Relieve Cl...|\n",
      "|    0|   NHLHUT|Bergeron for 500$...|\n",
      "|    0|   NHLHUT|Second best strea...|\n",
      "|    0|   NHLHUT|Confessions of a ...|\n",
      "|    0|   NHLHUT|Burning out a lin...|\n",
      "|    0|   NHLHUT|Just a girl looki...|\n",
      "|    0|   NHLHUT|I have a post wit...|\n",
      "|    0|   NHLHUT|Lol! Seriously! N...|\n",
      "+-----+---------+--------------------+\n",
      "only showing top 10 rows\n",
      "\n"
     ]
    }
   ],
   "source": [
    "# Dropping separate parent_comment and comment colunns:\n",
    "\n",
    "sarc = sarc.drop('comment')\n",
    "sarc = sarc.drop('parent_comment')\n",
    "\n",
    "sarc.show(10)"
   ]
  },
  {
   "cell_type": "code",
   "execution_count": 108,
   "metadata": {},
   "outputs": [],
   "source": [
    "# Writing truncated dataframe to gcs:\n",
    "\n",
    "sarc.write.csv('gs://sarc-bucket-3wx3ce6drvftuy/reddit_trunc.csv')"
   ]
  },
  {
   "cell_type": "code",
   "execution_count": 110,
   "metadata": {},
   "outputs": [
    {
     "name": "stdout",
     "output_type": "stream",
     "text": [
      "+--------------------+--------+\n",
      "|           subreddit|   count|\n",
      "+--------------------+--------+\n",
      "|           AskReddit|13912287|\n",
      "|            politics| 3987395|\n",
      "|               funny| 3553485|\n",
      "|                pics| 3090176|\n",
      "|                 nfl| 2931774|\n",
      "|                 nba| 2835460|\n",
      "|     leagueoflegends| 2474871|\n",
      "|           worldnews| 2461930|\n",
      "|       todayilearned| 2230701|\n",
      "|              gaming| 2141765|\n",
      "|              videos| 2132303|\n",
      "|       AdviceAnimals| 1982689|\n",
      "|                news| 1930852|\n",
      "|                 WTF| 1883286|\n",
      "|          The_Donald| 1729085|\n",
      "|        pcmasterrace| 1638541|\n",
      "|              hockey| 1602605|\n",
      "|              soccer| 1551522|\n",
      "|              movies| 1310982|\n",
      "|     GlobalOffensive| 1188153|\n",
      "|       SquaredCircle| 1147085|\n",
      "|                 CFB| 1142279|\n",
      "|               DotA2| 1103664|\n",
      "|                gifs| 1019627|\n",
      "|             atheism|  809594|\n",
      "|          technology|  770018|\n",
      "|      TumblrInAction|  738262|\n",
      "|            baseball|  736908|\n",
      "|      Showerthoughts|  685255|\n",
      "|           Overwatch|  661645|\n",
      "|         hearthstone|  620753|\n",
      "|                 MMA|  620729|\n",
      "|      DestinyTheGame|  608361|\n",
      "|         hiphopheads|  602112|\n",
      "|                 wow|  582331|\n",
      "|           teenagers|  581783|\n",
      "|             Android|  557614|\n",
      "|                 aww|  530899|\n",
      "|               Games|  511627|\n",
      "|   mildlyinteresting|  485102|\n",
      "|                guns|  460239|\n",
      "|               trees|  458142|\n",
      "|              canada|  455800|\n",
      "|              europe|  448517|\n",
      "|              AskMen|  431178|\n",
      "|               anime|  418086|\n",
      "|            magicTCG|  416481|\n",
      "|       unitedkingdom|  416245|\n",
      "|           australia|  416200|\n",
      "|     fantasyfootball|  414490|\n",
      "|             pokemon|  411177|\n",
      "|           2007scape|  410716|\n",
      "|             xboxone|  400947|\n",
      "|               india|  395806|\n",
      "|  BlackPeopleTwitter|  391836|\n",
      "|                 tf2|  369782|\n",
      "|       CringeAnarchy|  352577|\n",
      "|          conspiracy|  351535|\n",
      "|           smashbros|  351328|\n",
      "|                 PS4|  349136|\n",
      "|               Smite|  338591|\n",
      "|               4chan|  336498|\n",
      "|          cringepics|  331406|\n",
      "|          television|  328737|\n",
      "|      KotakuInAction|  322240|\n",
      "|                cars|  317847|\n",
      "|                 Eve|  311908|\n",
      "| fivenightsatfreddys|  311078|\n",
      "|   CollegeBasketball|  303910|\n",
      "|                IAmA|  303520|\n",
      "|   explainlikeimfive|  298511|\n",
      "|RocketLeagueExchange|  297124|\n",
      "|            AskWomen|  296815|\n",
      "|         nottheonion|  296195|\n",
      "|            formula1|  294590|\n",
      "|             Fitness|  288442|\n",
      "|      SubredditDrama|  287910|\n",
      "|          ukpolitics|  287481|\n",
      "|          BigBrother|  283490|\n",
      "|               Music|  279574|\n",
      "|           pokemongo|  277243|\n",
      "|         whowouldwin|  275190|\n",
      "| SandersForPresident|  266857|\n",
      "|           Minecraft|  266807|\n",
      "|           starcraft|  263699|\n",
      "|            StarWars|  257814|\n",
      "|             Bitcoin|  256804|\n",
      "|               apple|  254184|\n",
      "|        Christianity|  253316|\n",
      "|              asoiaf|  249007|\n",
      "|             OkCupid|  248668|\n",
      "|       relationships|  248421|\n",
      "|                FIFA|  248041|\n",
      "|             science|  242514|\n",
      "|          reddit.com|  240252|\n",
      "|         pathofexile|  240023|\n",
      "|         Libertarian|  239281|\n",
      "|             Fallout|  238020|\n",
      "|         CFBOffTopic|  234291|\n",
      "|electronic_cigarette|  232620|\n",
      "+--------------------+--------+\n",
      "only showing top 100 rows\n",
      "\n"
     ]
    }
   ],
   "source": [
    "# Checking out frequencies amongst subreddit categories:\n",
    "\n",
    "sarc.groupBy('subreddit').count().sort(col(\"count\").desc()).show(100)"
   ]
  },
  {
   "cell_type": "code",
   "execution_count": 117,
   "metadata": {},
   "outputs": [],
   "source": [
    "# Filtering for just politics subreddit:\n",
    "\n",
    "politics = sarc.where(col('subreddit')=='politics')"
   ]
  },
  {
   "cell_type": "code",
   "execution_count": 118,
   "metadata": {},
   "outputs": [
    {
     "name": "stdout",
     "output_type": "stream",
     "text": [
      "+-----+---------+--------------------+\n",
      "|label|subreddit|             context|\n",
      "+-----+---------+--------------------+\n",
      "|    0| politics|I think he's heav...|\n",
      "|    0| politics|All it takes is t...|\n",
      "|    0| politics|You know he's nev...|\n",
      "|    0| politics|Go ahead and wast...|\n",
      "|    0| politics|\"Right when the m...|\n",
      "|    0| politics|he tweets, you ge...|\n",
      "|    0| politics|I am Canadian, I ...|\n",
      "|    0| politics|\"Yeah, \"\"obsessed...|\n",
      "|    0| politics|I thought better ...|\n",
      "|    0| politics|same strategy use...|\n",
      "|    0| politics|CPAC leader: The ...|\n",
      "|    0| politics|Project Veritas '...|\n",
      "|    0| politics|It is amusing but...|\n",
      "|    0| politics|The Trump-tanic h...|\n",
      "|    0| politics|Vladimir Putin sa...|\n",
      "|    0| politics|I've heard lots o...|\n",
      "|    0| politics|That could be an ...|\n",
      "|    0| politics|Bet he uses Netsc...|\n",
      "|    0| politics|I'm no lawyer, bu...|\n",
      "|    0| politics|Why hasn't she be...|\n",
      "+-----+---------+--------------------+\n",
      "only showing top 20 rows\n",
      "\n"
     ]
    }
   ],
   "source": [
    "politics.show()"
   ]
  },
  {
   "cell_type": "code",
   "execution_count": 119,
   "metadata": {},
   "outputs": [
    {
     "name": "stdout",
     "output_type": "stream",
     "text": [
      "New total number of records: 3987395\n",
      "CPU times: user 42.1 ms, sys: 12.9 ms, total: 55 ms\n",
      "Wall time: 1min 50s\n"
     ]
    }
   ],
   "source": [
    "%time print(\"New total number of records: {}\".format(politics.count()))"
   ]
  },
  {
   "cell_type": "code",
   "execution_count": 120,
   "metadata": {},
   "outputs": [
    {
     "name": "stdout",
     "output_type": "stream",
     "text": [
      "CPU times: user 49 ms, sys: 15.8 ms, total: 64.8 ms\n",
      "Wall time: 3min 19s\n"
     ]
    }
   ],
   "source": [
    "# Writing politics dataframe to gcs:\n",
    "\n",
    "%time politics.write.csv('gs://sarc-bucket-3wx3ce6drvftuy/politics.csv')"
   ]
  },
  {
   "cell_type": "code",
   "execution_count": 121,
   "metadata": {},
   "outputs": [
    {
     "name": "stdout",
     "output_type": "stream",
     "text": [
      "New total number of records: 242514\n",
      "CPU times: user 44.6 ms, sys: 10.2 ms, total: 54.8 ms\n",
      "Wall time: 1min 46s\n"
     ]
    }
   ],
   "source": [
    "# Filtering for just science subreddit:\n",
    "\n",
    "science = sarc.where(col('subreddit')=='science')\n",
    "%time print(\"New total number of records: {}\".format(science.count()))"
   ]
  },
  {
   "cell_type": "code",
   "execution_count": 122,
   "metadata": {},
   "outputs": [
    {
     "name": "stdout",
     "output_type": "stream",
     "text": [
      "CPU times: user 49.7 ms, sys: 15.5 ms, total: 65.2 ms\n",
      "Wall time: 3min 14s\n"
     ]
    }
   ],
   "source": [
    "# Writing science dataframe to gcs:\n",
    "\n",
    "%time science.write.csv('gs://sarc-bucket-3wx3ce6drvftuy/science.csv')"
   ]
  },
  {
   "cell_type": "code",
   "execution_count": 123,
   "metadata": {},
   "outputs": [],
   "source": [
    "sc.stop()"
   ]
  },
  {
   "cell_type": "code",
   "execution_count": null,
   "metadata": {},
   "outputs": [],
   "source": []
  }
 ],
 "metadata": {
  "kernelspec": {
   "display_name": "Python 3",
   "language": "python",
   "name": "python3"
  },
  "language_info": {
   "codemirror_mode": {
    "name": "ipython",
    "version": 3
   },
   "file_extension": ".py",
   "mimetype": "text/x-python",
   "name": "python",
   "nbconvert_exporter": "python",
   "pygments_lexer": "ipython3",
   "version": "3.7.6"
  }
 },
 "nbformat": 4,
 "nbformat_minor": 2
}
