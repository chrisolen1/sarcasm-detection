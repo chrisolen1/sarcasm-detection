{
 "cells": [
  {
   "cell_type": "code",
   "execution_count": 8,
   "metadata": {},
   "outputs": [],
   "source": [
    "import pyspark\n",
    "\n",
    "from pyspark.sql import SparkSession\n",
    "from pyspark.sql.functions import col\n",
    "from pyspark.sql import HiveContext\n",
    "from pyspark.sql import functions as F\n",
    "from pyspark.sql.types import *\n",
    "\n",
    "from pyspark.ml.feature import HashingTF, IDF, Tokenizer\n",
    "from pyspark.ml.feature import Word2Vec\n",
    "\n",
    "import pandas as pd\n",
    "\n",
    "import re\n",
    "\n",
    "import random\n",
    "\n",
    "import socket\n",
    "\n",
    "import matplotlib.pyplot as plt\n",
    "%matplotlib inline"
   ]
  },
  {
   "cell_type": "code",
   "execution_count": 9,
   "metadata": {},
   "outputs": [],
   "source": [
    "driver_ip = socket.gethostbyname(socket.gethostname())"
   ]
  },
  {
   "cell_type": "code",
   "execution_count": 10,
   "metadata": {},
   "outputs": [],
   "source": [
    "conf = pyspark.SparkConf().setAll([('spark.kubernetes.authenticate.caCertFile', '/var/run/secrets/kubernetes.io/serviceaccount/ca.crt'), \\\n",
    "                                   ('spark.kubernetes.authenticate.oauthTokenFile','/var/run/secrets/kubernetes.io/serviceaccount/token'), \\\n",
    "                                   ('spark.kubernetes.authenticate.driver.serviceAccountName','spark-driver-sa'), \\\n",
    "                                   ('spark.kubernetes.namespace','spark'), \\\n",
    "                                   ('spark.driver.pod.name','spark-driver'), \\\n",
    "                                   ('spark.executor.instances','8'), \\\n",
    "                                   ('spark.kubernetes.container.image','gcr.io/sarcasm-3wx3ce6drvftuy/spark-v2.4.4-worker:latest'), \\\n",
    "                                   ('spark.driver.host','spark-driver.spark.svc.cluster.local'), \\\n",
    "                                   ('spark.driver.port','29413'), \\\n",
    "                                   ('spark.driver.bindAddress',driver_ip), \\\n",
    "                                   ('spark.executor.memory','5000m'), \\\n",
    "                                   ('spark.executor.cores','1'), \\\n",
    "                                   ('spark.kubernetes.driverEnv.GCS_PROJECT_ID', 'sarcasm-3wx3ce6drvftuy'), \\\n",
    "                                   ('spark.kubernetes.driverEnv.GOOGLE_APPLICATION_CREDENTIALS', '/mnt/secrets/sarc-bucket-sa.json'), \\\n",
    "                                   ('spark.kubernetes.driver.secrets.sarc-bucket-sa','/mnt/secrets'), \\\n",
    "                                   ('spark.kubernetes.executor.secrets.sarc-bucket-sa','/mnt/secrets'), \\\n",
    "                                   ('spark.executorEnv.GCS_PROJECT_ID','sarcasm-3wx3ce6drvftuy'), \\\n",
    "                                   ('spark.executorEnv.GOOGLE_APPLICATION_CREDENTIALS','/mnt/secrets/sarc-bucket-sa.json'), \\\n",
    "                                   ('spark.hadoop.google.cloud.auth.service.account.enable','true'), \\\n",
    "                                   ('spark.hadoop.google.cloud.auth.service.account.json.keyfile','/mnt/secrets/sarc-bucket-sa.json'), \\\n",
    "                                   ('spark.hadoop.fs.gs.project.id','sarcasm-3wx3ce6drvftuy'), \\\n",
    "                                   ('spark.hadoop.fs.gs.system.bucket','sarc-bucket-3wx3ce6drvftuy')])"
   ]
  },
  {
   "cell_type": "code",
   "execution_count": 11,
   "metadata": {},
   "outputs": [],
   "source": [
    "spark = SparkSession.builder.master(\"k8s://https://kubernetes.default.svc.cluster.local:443\").appName(\"sarc\").config(conf=conf).getOrCreate()"
   ]
  },
  {
   "cell_type": "code",
   "execution_count": 12,
   "metadata": {},
   "outputs": [],
   "source": [
    "sc = spark.sparkContext"
   ]
  },
  {
   "cell_type": "code",
   "execution_count": 13,
   "metadata": {},
   "outputs": [
    {
     "name": "stdout",
     "output_type": "stream",
     "text": [
      "CPU times: user 3 ms, sys: 2.39 ms, total: 5.38 ms\n",
      "Wall time: 17.6 s\n"
     ]
    }
   ],
   "source": [
    "# Read in truncated sarc table:\n",
    "\n",
    "%time tsarc = spark.read.csv(\"gs://sarc-bucket-3wx3ce6drvftuy/science.csv\", inferSchema=True, header=False, sep = ',')\n",
    "\n"
   ]
  },
  {
   "cell_type": "code",
   "execution_count": 22,
   "metadata": {},
   "outputs": [],
   "source": [
    "# Rename columns: \n",
    "\n",
    "tsarc = tsarc.withColumnRenamed('_c0','label').withColumnRenamed('_c1','subreddit').withColumnRenamed('_c2','context')\n"
   ]
  },
  {
   "cell_type": "code",
   "execution_count": 14,
   "metadata": {},
   "outputs": [
    {
     "name": "stdout",
     "output_type": "stream",
     "text": [
      "CPU times: user 1.72 ms, sys: 247 µs, total: 1.97 ms\n",
      "Wall time: 4.39 s\n"
     ]
    },
    {
     "data": {
      "text/plain": [
       "242514"
      ]
     },
     "execution_count": 14,
     "metadata": {},
     "output_type": "execute_result"
    }
   ],
   "source": [
    "# Get number of samples:\n",
    "\n",
    "%time tsarc.count()"
   ]
  },
  {
   "cell_type": "code",
   "execution_count": 24,
   "metadata": {},
   "outputs": [],
   "source": [
    "samp = tsarc.sample(False, 0.1, 1)"
   ]
  },
  {
   "cell_type": "code",
   "execution_count": 25,
   "metadata": {},
   "outputs": [
    {
     "name": "stdout",
     "output_type": "stream",
     "text": [
      "24256\n",
      "+-----+---------+--------------------+\n",
      "|label|subreddit|             context|\n",
      "+-----+---------+--------------------+\n",
      "|    0|  science|A second age of A...|\n",
      "|    0|  science|Why the hell woul...|\n",
      "|    0|  science|\"\"\"The verdict is...|\n",
      "|    0|  science|Electric Bugs: Ne...|\n",
      "|    0|  science|NASA's Guide to v...|\n",
      "|    0|  science|Astronomers disco...|\n",
      "|    0|  science|What a worthless ...|\n",
      "|    0|  science|even if there wer...|\n",
      "|    0|  science|I need a device l...|\n",
      "|    0|  science|This is how feel,...|\n",
      "|    0|  science|Sigh. Don't drive...|\n",
      "|    0|  science|Decoding brainwav...|\n",
      "|    0|  science|TIL there is an e...|\n",
      "|    0|  science|Wat. If you force...|\n",
      "|    0|  science|\"...because diabe...|\n",
      "|    0|  science|One in 10 kids fo...|\n",
      "|    0|  science|Drinking in the s...|\n",
      "|    0|  science|Do animals taste ...|\n",
      "|    0|  science|\"My to do list fo...|\n",
      "|    0|  science|It's cute that yo...|\n",
      "+-----+---------+--------------------+\n",
      "only showing top 20 rows\n",
      "\n"
     ]
    }
   ],
   "source": [
    "print(samp.count())\n",
    "samp.show()"
   ]
  },
  {
   "cell_type": "code",
   "execution_count": null,
   "metadata": {},
   "outputs": [],
   "source": []
  },
  {
   "cell_type": "code",
   "execution_count": null,
   "metadata": {},
   "outputs": [],
   "source": []
  },
  {
   "cell_type": "code",
   "execution_count": null,
   "metadata": {},
   "outputs": [],
   "source": []
  },
  {
   "cell_type": "code",
   "execution_count": null,
   "metadata": {},
   "outputs": [],
   "source": []
  },
  {
   "cell_type": "code",
   "execution_count": 6,
   "metadata": {},
   "outputs": [],
   "source": [
    "sc.stop()"
   ]
  },
  {
   "cell_type": "code",
   "execution_count": null,
   "metadata": {},
   "outputs": [],
   "source": []
  }
 ],
 "metadata": {
  "kernelspec": {
   "display_name": "Python 3",
   "language": "python",
   "name": "python3"
  },
  "language_info": {
   "codemirror_mode": {
    "name": "ipython",
    "version": 3
   },
   "file_extension": ".py",
   "mimetype": "text/x-python",
   "name": "python",
   "nbconvert_exporter": "python",
   "pygments_lexer": "ipython3",
   "version": "3.7.4"
  }
 },
 "nbformat": 4,
 "nbformat_minor": 2
}
